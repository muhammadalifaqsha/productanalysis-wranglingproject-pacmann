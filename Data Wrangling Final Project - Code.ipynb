{
 "cells": [
  {
   "cell_type": "markdown",
   "metadata": {},
   "source": [
    "# PACMANN Data Wrangling Project – 2017 Product Analysis"
   ]
  },
  {
   "cell_type": "markdown",
   "metadata": {},
   "source": [
    "## Objectives"
   ]
  },
  {
   "cell_type": "markdown",
   "metadata": {},
   "source": [
    "In this project, we are going to identify which categories of products\n",
    "\n",
    "- bring the largest sales\n",
    "- are sold the most\n",
    "- have the largest number of customers\n",
    "- are usually bought in bundles (more than one per order)\n",
    "- have the highest review score\n",
    "- have the highest share of unsold products\n",
    "\n",
    "in the year 2017."
   ]
  },
  {
   "cell_type": "markdown",
   "metadata": {},
   "source": [
    "# 0. Initialisation"
   ]
  },
  {
   "cell_type": "code",
   "execution_count": 1,
   "metadata": {},
   "outputs": [
    {
     "name": "stdout",
     "output_type": "stream",
     "text": [
      "[('olist_order_customer_dataset',), ('olist_order_dataset',), ('olist_order_reviews_dataset',), ('olist_order_payments_dataset',), ('olist_order_items_dataset',), ('olist_products_dataset',), ('olist_sellers_dataset',), ('olist_geolocation_dataset',), ('product_category_name_translation',)]\n"
     ]
    }
   ],
   "source": [
    "# loading in modules\n",
    "import sqlite3\n",
    "import pandas as pd\n",
    "import numpy as np\n",
    "import matplotlib.pyplot as plt\n",
    "import seaborn as sns\n",
    "\n",
    "# creating file path\n",
    "dbfile = 'olist.db'\n",
    "# Create a SQL connection to our SQLite database\n",
    "con = sqlite3.connect(dbfile)\n",
    "\n",
    "# creating cursor\n",
    "cur = con.cursor()\n",
    "\n",
    "# reading all table names\n",
    "table_list = [a for a in cur.execute(\"SELECT name FROM sqlite_master WHERE type = 'table'\")]\n",
    "# here is you table list\n",
    "print(table_list)\n",
    "\n",
    "con.close()"
   ]
  },
  {
   "cell_type": "code",
   "execution_count": 2,
   "metadata": {},
   "outputs": [],
   "source": [
    "def get_result(query):\n",
    "    # a function to query from database\n",
    "    dbfile = 'olist.db'\n",
    "    conn = sqlite3.connect(dbfile)\n",
    "    con = sqlite3.connect(dbfile)\n",
    "    cur = con.cursor()\n",
    "    cur.execute(query)\n",
    "    data = pd.read_sql_query(query, con)\n",
    "    con.close()\n",
    "    return data"
   ]
  },
  {
   "cell_type": "markdown",
   "metadata": {},
   "source": [
    "# 1. Querying the Necessary Data"
   ]
  },
  {
   "cell_type": "markdown",
   "metadata": {},
   "source": [
    "To get a table of data consisting of the product descriptions (category, product id), sales, and review score, all in the year 2017 (at the time the order was created), we are going to query from the tables \n",
    "\n",
    "- olist_order_items_dataset\n",
    "- olist_order_dataset\n",
    "- olist_order_reviews_dataset\n",
    "- olist_order_customer_dataset\n",
    "\n",
    "Note: In the original olist_order_reviews_dataset table, there is really no product identification (only order_id identification), so for orders with more than 1 item, there is no column identifying which product is being reviewed. Due to this, we just assume that the reviewer’s score for the product is the mean review score out of all scores within the order."
   ]
  },
  {
   "cell_type": "code",
   "execution_count": 3,
   "metadata": {},
   "outputs": [],
   "source": [
    "query = '''\n",
    "WITH agg_products_1 AS(\n",
    "SELECT\n",
    "order_id,\n",
    "product_id,\n",
    "customer_unique_id,\n",
    "SUM(price) AS total_price,\n",
    "COUNT(order_id) AS num_sold,\n",
    "CASE WHEN COUNT(order_id) > 1 THEN 1\n",
    "ELSE 0 \n",
    "END more_than_one,\n",
    "AVG(review_score) AS review_score\n",
    "FROM olist_order_items_dataset\n",
    "LEFT JOIN olist_order_dataset USING(order_id)\n",
    "LEFT JOIN olist_order_reviews_dataset USING(order_id)\n",
    "LEFT JOIN olist_order_customer_dataset USING(customer_id)\n",
    "WHERE DATE(order_purchase_timestamp) <= DATE('2017-12-31') \n",
    "AND DATE(order_purchase_timestamp) >= DATE('2017-01-01')\n",
    "AND order_status = 'delivered'\n",
    "GROUP BY order_id, product_id\n",
    "),\n",
    "\n",
    "agg_products_2 AS(\n",
    "SELECT\n",
    "product_id,\n",
    "SUM(total_price) AS sales,\n",
    "SUM(num_sold) AS total_sold,\n",
    "COUNT(order_id) AS num_orders,\n",
    "SUM(more_than_one) AS num_times_more_than_one,\n",
    "COUNT(DISTINCT customer_unique_id) AS num_uniq_customers,\n",
    "AVG(review_score) AS mean_review_score\n",
    "FROM agg_products_1\n",
    "GROUP BY product_id\n",
    ")\n",
    "\n",
    "SELECT\n",
    "product_category_name_english,\n",
    "product_category_name,\n",
    "product_id,\n",
    "sales,\n",
    "total_sold,\n",
    "num_orders,\n",
    "num_times_more_than_one,\n",
    "num_uniq_customers,\n",
    "mean_review_score\n",
    "FROM olist_products_dataset\n",
    "LEFT JOIN agg_products_2 USING(product_id)\n",
    "LEFT JOIN product_category_name_translation USING(product_category_name)\n",
    "'''\n",
    "\n",
    "product_2017 = get_result(query)"
   ]
  },
  {
   "cell_type": "code",
   "execution_count": 4,
   "metadata": {},
   "outputs": [
    {
     "data": {
      "text/html": [
       "<div>\n",
       "<style scoped>\n",
       "    .dataframe tbody tr th:only-of-type {\n",
       "        vertical-align: middle;\n",
       "    }\n",
       "\n",
       "    .dataframe tbody tr th {\n",
       "        vertical-align: top;\n",
       "    }\n",
       "\n",
       "    .dataframe thead th {\n",
       "        text-align: right;\n",
       "    }\n",
       "</style>\n",
       "<table border=\"1\" class=\"dataframe\">\n",
       "  <thead>\n",
       "    <tr style=\"text-align: right;\">\n",
       "      <th></th>\n",
       "      <th>product_category_name_english</th>\n",
       "      <th>product_category_name</th>\n",
       "      <th>product_id</th>\n",
       "      <th>sales</th>\n",
       "      <th>total_sold</th>\n",
       "      <th>num_orders</th>\n",
       "      <th>num_times_more_than_one</th>\n",
       "      <th>num_uniq_customers</th>\n",
       "      <th>mean_review_score</th>\n",
       "    </tr>\n",
       "  </thead>\n",
       "  <tbody>\n",
       "    <tr>\n",
       "      <th>0</th>\n",
       "      <td>perfumery</td>\n",
       "      <td>perfumaria</td>\n",
       "      <td>1e9e8ef04dbcff4541ed26657ea517e5</td>\n",
       "      <td>NaN</td>\n",
       "      <td>NaN</td>\n",
       "      <td>NaN</td>\n",
       "      <td>NaN</td>\n",
       "      <td>NaN</td>\n",
       "      <td>NaN</td>\n",
       "    </tr>\n",
       "    <tr>\n",
       "      <th>1</th>\n",
       "      <td>art</td>\n",
       "      <td>artes</td>\n",
       "      <td>3aa071139cb16b67ca9e5dea641aaa2f</td>\n",
       "      <td>NaN</td>\n",
       "      <td>NaN</td>\n",
       "      <td>NaN</td>\n",
       "      <td>NaN</td>\n",
       "      <td>NaN</td>\n",
       "      <td>NaN</td>\n",
       "    </tr>\n",
       "    <tr>\n",
       "      <th>2</th>\n",
       "      <td>sports_leisure</td>\n",
       "      <td>esporte_lazer</td>\n",
       "      <td>96bd76ec8810374ed1b65e291975717f</td>\n",
       "      <td>NaN</td>\n",
       "      <td>NaN</td>\n",
       "      <td>NaN</td>\n",
       "      <td>NaN</td>\n",
       "      <td>NaN</td>\n",
       "      <td>NaN</td>\n",
       "    </tr>\n",
       "    <tr>\n",
       "      <th>3</th>\n",
       "      <td>baby</td>\n",
       "      <td>bebes</td>\n",
       "      <td>cef67bcfe19066a932b7673e239eb23d</td>\n",
       "      <td>NaN</td>\n",
       "      <td>NaN</td>\n",
       "      <td>NaN</td>\n",
       "      <td>NaN</td>\n",
       "      <td>NaN</td>\n",
       "      <td>NaN</td>\n",
       "    </tr>\n",
       "    <tr>\n",
       "      <th>4</th>\n",
       "      <td>housewares</td>\n",
       "      <td>utilidades_domesticas</td>\n",
       "      <td>9dc1a7de274444849c219cff195d0b71</td>\n",
       "      <td>NaN</td>\n",
       "      <td>NaN</td>\n",
       "      <td>NaN</td>\n",
       "      <td>NaN</td>\n",
       "      <td>NaN</td>\n",
       "      <td>NaN</td>\n",
       "    </tr>\n",
       "  </tbody>\n",
       "</table>\n",
       "</div>"
      ],
      "text/plain": [
       "  product_category_name_english  product_category_name  \\\n",
       "0                     perfumery             perfumaria   \n",
       "1                           art                  artes   \n",
       "2                sports_leisure          esporte_lazer   \n",
       "3                          baby                  bebes   \n",
       "4                    housewares  utilidades_domesticas   \n",
       "\n",
       "                         product_id  sales  total_sold  num_orders  \\\n",
       "0  1e9e8ef04dbcff4541ed26657ea517e5    NaN         NaN         NaN   \n",
       "1  3aa071139cb16b67ca9e5dea641aaa2f    NaN         NaN         NaN   \n",
       "2  96bd76ec8810374ed1b65e291975717f    NaN         NaN         NaN   \n",
       "3  cef67bcfe19066a932b7673e239eb23d    NaN         NaN         NaN   \n",
       "4  9dc1a7de274444849c219cff195d0b71    NaN         NaN         NaN   \n",
       "\n",
       "   num_times_more_than_one  num_uniq_customers  mean_review_score  \n",
       "0                      NaN                 NaN                NaN  \n",
       "1                      NaN                 NaN                NaN  \n",
       "2                      NaN                 NaN                NaN  \n",
       "3                      NaN                 NaN                NaN  \n",
       "4                      NaN                 NaN                NaN  "
      ]
     },
     "execution_count": 4,
     "metadata": {},
     "output_type": "execute_result"
    }
   ],
   "source": [
    "product_2017.head()"
   ]
  },
  {
   "cell_type": "code",
   "execution_count": 5,
   "metadata": {},
   "outputs": [
    {
     "name": "stdout",
     "output_type": "stream",
     "text": [
      "<class 'pandas.core.frame.DataFrame'>\n",
      "RangeIndex: 32951 entries, 0 to 32950\n",
      "Data columns (total 9 columns):\n",
      " #   Column                         Non-Null Count  Dtype  \n",
      "---  ------                         --------------  -----  \n",
      " 0   product_category_name_english  32328 non-null  object \n",
      " 1   product_category_name          32341 non-null  object \n",
      " 2   product_id                     32951 non-null  object \n",
      " 3   sales                          16803 non-null  float64\n",
      " 4   total_sold                     16803 non-null  float64\n",
      " 5   num_orders                     16803 non-null  float64\n",
      " 6   num_times_more_than_one        16803 non-null  float64\n",
      " 7   num_uniq_customers             16803 non-null  float64\n",
      " 8   mean_review_score              16716 non-null  float64\n",
      "dtypes: float64(6), object(3)\n",
      "memory usage: 2.3+ MB\n"
     ]
    }
   ],
   "source": [
    "product_2017.info()"
   ]
  },
  {
   "cell_type": "code",
   "execution_count": 6,
   "metadata": {},
   "outputs": [],
   "source": [
    "# Impute NaN-valued sales, total_sold, and num_times_more_than_one, and num_uniq_customers with 0\n",
    "# because it meant those products weren't sold in 2017\n",
    "\n",
    "col = ['sales', 'total_sold', 'num_orders', 'num_times_more_than_one', 'num_uniq_customers']\n",
    "\n",
    "for column in col:\n",
    "    product_2017[col] = product_2017[col].fillna(value=0)\n",
    "\n",
    "product_2017 = product_2017.reset_index(drop=True)"
   ]
  },
  {
   "cell_type": "code",
   "execution_count": 7,
   "metadata": {},
   "outputs": [
    {
     "data": {
      "text/html": [
       "<div>\n",
       "<style scoped>\n",
       "    .dataframe tbody tr th:only-of-type {\n",
       "        vertical-align: middle;\n",
       "    }\n",
       "\n",
       "    .dataframe tbody tr th {\n",
       "        vertical-align: top;\n",
       "    }\n",
       "\n",
       "    .dataframe thead th {\n",
       "        text-align: right;\n",
       "    }\n",
       "</style>\n",
       "<table border=\"1\" class=\"dataframe\">\n",
       "  <thead>\n",
       "    <tr style=\"text-align: right;\">\n",
       "      <th></th>\n",
       "      <th>product_category_name_english</th>\n",
       "      <th>product_category_name</th>\n",
       "      <th>product_id</th>\n",
       "      <th>sales</th>\n",
       "      <th>total_sold</th>\n",
       "      <th>num_orders</th>\n",
       "      <th>num_times_more_than_one</th>\n",
       "      <th>num_uniq_customers</th>\n",
       "      <th>mean_review_score</th>\n",
       "    </tr>\n",
       "  </thead>\n",
       "  <tbody>\n",
       "    <tr>\n",
       "      <th>0</th>\n",
       "      <td>perfumery</td>\n",
       "      <td>perfumaria</td>\n",
       "      <td>1e9e8ef04dbcff4541ed26657ea517e5</td>\n",
       "      <td>0.00</td>\n",
       "      <td>0.0</td>\n",
       "      <td>0.0</td>\n",
       "      <td>0.0</td>\n",
       "      <td>0.0</td>\n",
       "      <td>NaN</td>\n",
       "    </tr>\n",
       "    <tr>\n",
       "      <th>1</th>\n",
       "      <td>art</td>\n",
       "      <td>artes</td>\n",
       "      <td>3aa071139cb16b67ca9e5dea641aaa2f</td>\n",
       "      <td>0.00</td>\n",
       "      <td>0.0</td>\n",
       "      <td>0.0</td>\n",
       "      <td>0.0</td>\n",
       "      <td>0.0</td>\n",
       "      <td>NaN</td>\n",
       "    </tr>\n",
       "    <tr>\n",
       "      <th>2</th>\n",
       "      <td>sports_leisure</td>\n",
       "      <td>esporte_lazer</td>\n",
       "      <td>96bd76ec8810374ed1b65e291975717f</td>\n",
       "      <td>0.00</td>\n",
       "      <td>0.0</td>\n",
       "      <td>0.0</td>\n",
       "      <td>0.0</td>\n",
       "      <td>0.0</td>\n",
       "      <td>NaN</td>\n",
       "    </tr>\n",
       "    <tr>\n",
       "      <th>3</th>\n",
       "      <td>baby</td>\n",
       "      <td>bebes</td>\n",
       "      <td>cef67bcfe19066a932b7673e239eb23d</td>\n",
       "      <td>0.00</td>\n",
       "      <td>0.0</td>\n",
       "      <td>0.0</td>\n",
       "      <td>0.0</td>\n",
       "      <td>0.0</td>\n",
       "      <td>NaN</td>\n",
       "    </tr>\n",
       "    <tr>\n",
       "      <th>4</th>\n",
       "      <td>housewares</td>\n",
       "      <td>utilidades_domesticas</td>\n",
       "      <td>9dc1a7de274444849c219cff195d0b71</td>\n",
       "      <td>0.00</td>\n",
       "      <td>0.0</td>\n",
       "      <td>0.0</td>\n",
       "      <td>0.0</td>\n",
       "      <td>0.0</td>\n",
       "      <td>NaN</td>\n",
       "    </tr>\n",
       "    <tr>\n",
       "      <th>...</th>\n",
       "      <td>...</td>\n",
       "      <td>...</td>\n",
       "      <td>...</td>\n",
       "      <td>...</td>\n",
       "      <td>...</td>\n",
       "      <td>...</td>\n",
       "      <td>...</td>\n",
       "      <td>...</td>\n",
       "      <td>...</td>\n",
       "    </tr>\n",
       "    <tr>\n",
       "      <th>32946</th>\n",
       "      <td>furniture_decor</td>\n",
       "      <td>moveis_decoracao</td>\n",
       "      <td>a0b7d5a992ccda646f2d34e418fff5a0</td>\n",
       "      <td>69.90</td>\n",
       "      <td>1.0</td>\n",
       "      <td>1.0</td>\n",
       "      <td>0.0</td>\n",
       "      <td>1.0</td>\n",
       "      <td>2.0</td>\n",
       "    </tr>\n",
       "    <tr>\n",
       "      <th>32947</th>\n",
       "      <td>construction_tools_lights</td>\n",
       "      <td>construcao_ferramentas_iluminacao</td>\n",
       "      <td>bf4538d88321d0fd4412a93c974510e6</td>\n",
       "      <td>0.00</td>\n",
       "      <td>0.0</td>\n",
       "      <td>0.0</td>\n",
       "      <td>0.0</td>\n",
       "      <td>0.0</td>\n",
       "      <td>NaN</td>\n",
       "    </tr>\n",
       "    <tr>\n",
       "      <th>32948</th>\n",
       "      <td>bed_bath_table</td>\n",
       "      <td>cama_mesa_banho</td>\n",
       "      <td>9a7c6041fa9592d9d9ef6cfe62a71f8c</td>\n",
       "      <td>127.50</td>\n",
       "      <td>1.0</td>\n",
       "      <td>1.0</td>\n",
       "      <td>0.0</td>\n",
       "      <td>1.0</td>\n",
       "      <td>5.0</td>\n",
       "    </tr>\n",
       "    <tr>\n",
       "      <th>32949</th>\n",
       "      <td>computers_accessories</td>\n",
       "      <td>informatica_acessorios</td>\n",
       "      <td>83808703fc0706a22e264b9d75f04a2e</td>\n",
       "      <td>79.42</td>\n",
       "      <td>2.0</td>\n",
       "      <td>1.0</td>\n",
       "      <td>1.0</td>\n",
       "      <td>1.0</td>\n",
       "      <td>5.0</td>\n",
       "    </tr>\n",
       "    <tr>\n",
       "      <th>32950</th>\n",
       "      <td>bed_bath_table</td>\n",
       "      <td>cama_mesa_banho</td>\n",
       "      <td>106392145fca363410d287a815be6de4</td>\n",
       "      <td>0.00</td>\n",
       "      <td>0.0</td>\n",
       "      <td>0.0</td>\n",
       "      <td>0.0</td>\n",
       "      <td>0.0</td>\n",
       "      <td>NaN</td>\n",
       "    </tr>\n",
       "  </tbody>\n",
       "</table>\n",
       "<p>32951 rows × 9 columns</p>\n",
       "</div>"
      ],
      "text/plain": [
       "      product_category_name_english              product_category_name  \\\n",
       "0                         perfumery                         perfumaria   \n",
       "1                               art                              artes   \n",
       "2                    sports_leisure                      esporte_lazer   \n",
       "3                              baby                              bebes   \n",
       "4                        housewares              utilidades_domesticas   \n",
       "...                             ...                                ...   \n",
       "32946               furniture_decor                   moveis_decoracao   \n",
       "32947     construction_tools_lights  construcao_ferramentas_iluminacao   \n",
       "32948                bed_bath_table                    cama_mesa_banho   \n",
       "32949         computers_accessories             informatica_acessorios   \n",
       "32950                bed_bath_table                    cama_mesa_banho   \n",
       "\n",
       "                             product_id   sales  total_sold  num_orders  \\\n",
       "0      1e9e8ef04dbcff4541ed26657ea517e5    0.00         0.0         0.0   \n",
       "1      3aa071139cb16b67ca9e5dea641aaa2f    0.00         0.0         0.0   \n",
       "2      96bd76ec8810374ed1b65e291975717f    0.00         0.0         0.0   \n",
       "3      cef67bcfe19066a932b7673e239eb23d    0.00         0.0         0.0   \n",
       "4      9dc1a7de274444849c219cff195d0b71    0.00         0.0         0.0   \n",
       "...                                 ...     ...         ...         ...   \n",
       "32946  a0b7d5a992ccda646f2d34e418fff5a0   69.90         1.0         1.0   \n",
       "32947  bf4538d88321d0fd4412a93c974510e6    0.00         0.0         0.0   \n",
       "32948  9a7c6041fa9592d9d9ef6cfe62a71f8c  127.50         1.0         1.0   \n",
       "32949  83808703fc0706a22e264b9d75f04a2e   79.42         2.0         1.0   \n",
       "32950  106392145fca363410d287a815be6de4    0.00         0.0         0.0   \n",
       "\n",
       "       num_times_more_than_one  num_uniq_customers  mean_review_score  \n",
       "0                          0.0                 0.0                NaN  \n",
       "1                          0.0                 0.0                NaN  \n",
       "2                          0.0                 0.0                NaN  \n",
       "3                          0.0                 0.0                NaN  \n",
       "4                          0.0                 0.0                NaN  \n",
       "...                        ...                 ...                ...  \n",
       "32946                      0.0                 1.0                2.0  \n",
       "32947                      0.0                 0.0                NaN  \n",
       "32948                      0.0                 1.0                5.0  \n",
       "32949                      1.0                 1.0                5.0  \n",
       "32950                      0.0                 0.0                NaN  \n",
       "\n",
       "[32951 rows x 9 columns]"
      ]
     },
     "execution_count": 7,
     "metadata": {},
     "output_type": "execute_result"
    }
   ],
   "source": [
    "product_2017"
   ]
  },
  {
   "cell_type": "markdown",
   "metadata": {},
   "source": [
    "# 2. Cleaning the Data"
   ]
  },
  {
   "cell_type": "code",
   "execution_count": 8,
   "metadata": {},
   "outputs": [
    {
     "name": "stdout",
     "output_type": "stream",
     "text": [
      "<class 'pandas.core.frame.DataFrame'>\n",
      "RangeIndex: 32951 entries, 0 to 32950\n",
      "Data columns (total 9 columns):\n",
      " #   Column                         Non-Null Count  Dtype  \n",
      "---  ------                         --------------  -----  \n",
      " 0   product_category_name_english  32328 non-null  object \n",
      " 1   product_category_name          32341 non-null  object \n",
      " 2   product_id                     32951 non-null  object \n",
      " 3   sales                          32951 non-null  float64\n",
      " 4   total_sold                     32951 non-null  float64\n",
      " 5   num_orders                     32951 non-null  float64\n",
      " 6   num_times_more_than_one        32951 non-null  float64\n",
      " 7   num_uniq_customers             32951 non-null  float64\n",
      " 8   mean_review_score              16716 non-null  float64\n",
      "dtypes: float64(6), object(3)\n",
      "memory usage: 2.3+ MB\n"
     ]
    }
   ],
   "source": [
    "product_2017.info()"
   ]
  },
  {
   "cell_type": "markdown",
   "metadata": {},
   "source": [
    "There are null values in product_category_name_english, product_category_name, and mean_review_score."
   ]
  },
  {
   "cell_type": "code",
   "execution_count": 9,
   "metadata": {},
   "outputs": [],
   "source": [
    "product_2017_copy = product_2017.copy()"
   ]
  },
  {
   "cell_type": "markdown",
   "metadata": {},
   "source": [
    "## (2a) Cleaning product_category_name_english"
   ]
  },
  {
   "cell_type": "markdown",
   "metadata": {},
   "source": [
    "First, we check whether there are rows with defined 'product_category_name' but NaN 'product_category_name_english' (or otherwise)"
   ]
  },
  {
   "cell_type": "code",
   "execution_count": 10,
   "metadata": {},
   "outputs": [
    {
     "data": {
      "text/html": [
       "<div>\n",
       "<style scoped>\n",
       "    .dataframe tbody tr th:only-of-type {\n",
       "        vertical-align: middle;\n",
       "    }\n",
       "\n",
       "    .dataframe tbody tr th {\n",
       "        vertical-align: top;\n",
       "    }\n",
       "\n",
       "    .dataframe thead th {\n",
       "        text-align: right;\n",
       "    }\n",
       "</style>\n",
       "<table border=\"1\" class=\"dataframe\">\n",
       "  <thead>\n",
       "    <tr style=\"text-align: right;\">\n",
       "      <th></th>\n",
       "      <th>product_category_name_english</th>\n",
       "      <th>product_category_name</th>\n",
       "      <th>product_id</th>\n",
       "      <th>sales</th>\n",
       "      <th>total_sold</th>\n",
       "      <th>num_orders</th>\n",
       "      <th>num_times_more_than_one</th>\n",
       "      <th>num_uniq_customers</th>\n",
       "      <th>mean_review_score</th>\n",
       "    </tr>\n",
       "  </thead>\n",
       "  <tbody>\n",
       "    <tr>\n",
       "      <th>1628</th>\n",
       "      <td>None</td>\n",
       "      <td>pc_gamer</td>\n",
       "      <td>0105b5323d24fc655f73052694dbbb3a</td>\n",
       "      <td>519.96</td>\n",
       "      <td>4.0</td>\n",
       "      <td>4.0</td>\n",
       "      <td>0.0</td>\n",
       "      <td>4.0</td>\n",
       "      <td>3.5</td>\n",
       "    </tr>\n",
       "    <tr>\n",
       "      <th>5821</th>\n",
       "      <td>None</td>\n",
       "      <td>portateis_cozinha_e_preparadores_de_alimentos</td>\n",
       "      <td>6fd83eb3e0799b775e4f946bd66657c0</td>\n",
       "      <td>0.00</td>\n",
       "      <td>0.0</td>\n",
       "      <td>0.0</td>\n",
       "      <td>0.0</td>\n",
       "      <td>0.0</td>\n",
       "      <td>NaN</td>\n",
       "    </tr>\n",
       "    <tr>\n",
       "      <th>7325</th>\n",
       "      <td>None</td>\n",
       "      <td>portateis_cozinha_e_preparadores_de_alimentos</td>\n",
       "      <td>5d923ead886c44b86845f69e50520c3e</td>\n",
       "      <td>0.00</td>\n",
       "      <td>0.0</td>\n",
       "      <td>0.0</td>\n",
       "      <td>0.0</td>\n",
       "      <td>0.0</td>\n",
       "      <td>NaN</td>\n",
       "    </tr>\n",
       "    <tr>\n",
       "      <th>7478</th>\n",
       "      <td>None</td>\n",
       "      <td>pc_gamer</td>\n",
       "      <td>6727051471a0fc4a0e7737b57bff2549</td>\n",
       "      <td>0.00</td>\n",
       "      <td>0.0</td>\n",
       "      <td>0.0</td>\n",
       "      <td>0.0</td>\n",
       "      <td>0.0</td>\n",
       "      <td>NaN</td>\n",
       "    </tr>\n",
       "    <tr>\n",
       "      <th>8819</th>\n",
       "      <td>None</td>\n",
       "      <td>portateis_cozinha_e_preparadores_de_alimentos</td>\n",
       "      <td>bed164d9d628cf0593003389c535c6e0</td>\n",
       "      <td>0.00</td>\n",
       "      <td>0.0</td>\n",
       "      <td>0.0</td>\n",
       "      <td>0.0</td>\n",
       "      <td>0.0</td>\n",
       "      <td>NaN</td>\n",
       "    </tr>\n",
       "    <tr>\n",
       "      <th>11039</th>\n",
       "      <td>None</td>\n",
       "      <td>portateis_cozinha_e_preparadores_de_alimentos</td>\n",
       "      <td>1220978a08a6b29a202bc015b18250e9</td>\n",
       "      <td>0.00</td>\n",
       "      <td>0.0</td>\n",
       "      <td>0.0</td>\n",
       "      <td>0.0</td>\n",
       "      <td>0.0</td>\n",
       "      <td>NaN</td>\n",
       "    </tr>\n",
       "    <tr>\n",
       "      <th>14266</th>\n",
       "      <td>None</td>\n",
       "      <td>portateis_cozinha_e_preparadores_de_alimentos</td>\n",
       "      <td>ae62bb0f95af63d64eae5f93dddea8d3</td>\n",
       "      <td>0.00</td>\n",
       "      <td>0.0</td>\n",
       "      <td>0.0</td>\n",
       "      <td>0.0</td>\n",
       "      <td>0.0</td>\n",
       "      <td>NaN</td>\n",
       "    </tr>\n",
       "    <tr>\n",
       "      <th>16182</th>\n",
       "      <td>None</td>\n",
       "      <td>portateis_cozinha_e_preparadores_de_alimentos</td>\n",
       "      <td>1954739d84629e7323a4295812a3e0ec</td>\n",
       "      <td>0.00</td>\n",
       "      <td>0.0</td>\n",
       "      <td>0.0</td>\n",
       "      <td>0.0</td>\n",
       "      <td>0.0</td>\n",
       "      <td>NaN</td>\n",
       "    </tr>\n",
       "    <tr>\n",
       "      <th>16930</th>\n",
       "      <td>None</td>\n",
       "      <td>pc_gamer</td>\n",
       "      <td>dbe520fb381ad695a7e1f2807d20c765</td>\n",
       "      <td>0.00</td>\n",
       "      <td>0.0</td>\n",
       "      <td>0.0</td>\n",
       "      <td>0.0</td>\n",
       "      <td>0.0</td>\n",
       "      <td>NaN</td>\n",
       "    </tr>\n",
       "    <tr>\n",
       "      <th>17800</th>\n",
       "      <td>None</td>\n",
       "      <td>portateis_cozinha_e_preparadores_de_alimentos</td>\n",
       "      <td>c7a3f1a7f9eef146cc499368b578b884</td>\n",
       "      <td>0.00</td>\n",
       "      <td>0.0</td>\n",
       "      <td>0.0</td>\n",
       "      <td>0.0</td>\n",
       "      <td>0.0</td>\n",
       "      <td>NaN</td>\n",
       "    </tr>\n",
       "    <tr>\n",
       "      <th>18610</th>\n",
       "      <td>None</td>\n",
       "      <td>portateis_cozinha_e_preparadores_de_alimentos</td>\n",
       "      <td>7afdd65f79f63819ff5bee328843fa37</td>\n",
       "      <td>0.00</td>\n",
       "      <td>0.0</td>\n",
       "      <td>0.0</td>\n",
       "      <td>0.0</td>\n",
       "      <td>0.0</td>\n",
       "      <td>NaN</td>\n",
       "    </tr>\n",
       "    <tr>\n",
       "      <th>26890</th>\n",
       "      <td>None</td>\n",
       "      <td>portateis_cozinha_e_preparadores_de_alimentos</td>\n",
       "      <td>a4756663d007b0cd1af865754d08d968</td>\n",
       "      <td>0.00</td>\n",
       "      <td>0.0</td>\n",
       "      <td>0.0</td>\n",
       "      <td>0.0</td>\n",
       "      <td>0.0</td>\n",
       "      <td>NaN</td>\n",
       "    </tr>\n",
       "    <tr>\n",
       "      <th>29919</th>\n",
       "      <td>None</td>\n",
       "      <td>portateis_cozinha_e_preparadores_de_alimentos</td>\n",
       "      <td>cb9d764f38ee4d0c00af64d5c388f837</td>\n",
       "      <td>0.00</td>\n",
       "      <td>0.0</td>\n",
       "      <td>0.0</td>\n",
       "      <td>0.0</td>\n",
       "      <td>0.0</td>\n",
       "      <td>NaN</td>\n",
       "    </tr>\n",
       "  </tbody>\n",
       "</table>\n",
       "</div>"
      ],
      "text/plain": [
       "      product_category_name_english  \\\n",
       "1628                           None   \n",
       "5821                           None   \n",
       "7325                           None   \n",
       "7478                           None   \n",
       "8819                           None   \n",
       "11039                          None   \n",
       "14266                          None   \n",
       "16182                          None   \n",
       "16930                          None   \n",
       "17800                          None   \n",
       "18610                          None   \n",
       "26890                          None   \n",
       "29919                          None   \n",
       "\n",
       "                               product_category_name  \\\n",
       "1628                                        pc_gamer   \n",
       "5821   portateis_cozinha_e_preparadores_de_alimentos   \n",
       "7325   portateis_cozinha_e_preparadores_de_alimentos   \n",
       "7478                                        pc_gamer   \n",
       "8819   portateis_cozinha_e_preparadores_de_alimentos   \n",
       "11039  portateis_cozinha_e_preparadores_de_alimentos   \n",
       "14266  portateis_cozinha_e_preparadores_de_alimentos   \n",
       "16182  portateis_cozinha_e_preparadores_de_alimentos   \n",
       "16930                                       pc_gamer   \n",
       "17800  portateis_cozinha_e_preparadores_de_alimentos   \n",
       "18610  portateis_cozinha_e_preparadores_de_alimentos   \n",
       "26890  portateis_cozinha_e_preparadores_de_alimentos   \n",
       "29919  portateis_cozinha_e_preparadores_de_alimentos   \n",
       "\n",
       "                             product_id   sales  total_sold  num_orders  \\\n",
       "1628   0105b5323d24fc655f73052694dbbb3a  519.96         4.0         4.0   \n",
       "5821   6fd83eb3e0799b775e4f946bd66657c0    0.00         0.0         0.0   \n",
       "7325   5d923ead886c44b86845f69e50520c3e    0.00         0.0         0.0   \n",
       "7478   6727051471a0fc4a0e7737b57bff2549    0.00         0.0         0.0   \n",
       "8819   bed164d9d628cf0593003389c535c6e0    0.00         0.0         0.0   \n",
       "11039  1220978a08a6b29a202bc015b18250e9    0.00         0.0         0.0   \n",
       "14266  ae62bb0f95af63d64eae5f93dddea8d3    0.00         0.0         0.0   \n",
       "16182  1954739d84629e7323a4295812a3e0ec    0.00         0.0         0.0   \n",
       "16930  dbe520fb381ad695a7e1f2807d20c765    0.00         0.0         0.0   \n",
       "17800  c7a3f1a7f9eef146cc499368b578b884    0.00         0.0         0.0   \n",
       "18610  7afdd65f79f63819ff5bee328843fa37    0.00         0.0         0.0   \n",
       "26890  a4756663d007b0cd1af865754d08d968    0.00         0.0         0.0   \n",
       "29919  cb9d764f38ee4d0c00af64d5c388f837    0.00         0.0         0.0   \n",
       "\n",
       "       num_times_more_than_one  num_uniq_customers  mean_review_score  \n",
       "1628                       0.0                 4.0                3.5  \n",
       "5821                       0.0                 0.0                NaN  \n",
       "7325                       0.0                 0.0                NaN  \n",
       "7478                       0.0                 0.0                NaN  \n",
       "8819                       0.0                 0.0                NaN  \n",
       "11039                      0.0                 0.0                NaN  \n",
       "14266                      0.0                 0.0                NaN  \n",
       "16182                      0.0                 0.0                NaN  \n",
       "16930                      0.0                 0.0                NaN  \n",
       "17800                      0.0                 0.0                NaN  \n",
       "18610                      0.0                 0.0                NaN  \n",
       "26890                      0.0                 0.0                NaN  \n",
       "29919                      0.0                 0.0                NaN  "
      ]
     },
     "execution_count": 10,
     "metadata": {},
     "output_type": "execute_result"
    }
   ],
   "source": [
    "null_english = product_2017_copy['product_category_name_english'].isna()\n",
    "valid_category_name = ~(product_2017_copy['product_category_name'].isna())\n",
    "\n",
    "product_2017_copy[null_english & valid_category_name]"
   ]
  },
  {
   "cell_type": "code",
   "execution_count": 11,
   "metadata": {},
   "outputs": [
    {
     "data": {
      "text/html": [
       "<div>\n",
       "<style scoped>\n",
       "    .dataframe tbody tr th:only-of-type {\n",
       "        vertical-align: middle;\n",
       "    }\n",
       "\n",
       "    .dataframe tbody tr th {\n",
       "        vertical-align: top;\n",
       "    }\n",
       "\n",
       "    .dataframe thead th {\n",
       "        text-align: right;\n",
       "    }\n",
       "</style>\n",
       "<table border=\"1\" class=\"dataframe\">\n",
       "  <thead>\n",
       "    <tr style=\"text-align: right;\">\n",
       "      <th></th>\n",
       "      <th>product_category_name_english</th>\n",
       "      <th>product_category_name</th>\n",
       "      <th>product_id</th>\n",
       "      <th>sales</th>\n",
       "      <th>total_sold</th>\n",
       "      <th>num_orders</th>\n",
       "      <th>num_times_more_than_one</th>\n",
       "      <th>num_uniq_customers</th>\n",
       "      <th>mean_review_score</th>\n",
       "    </tr>\n",
       "  </thead>\n",
       "  <tbody>\n",
       "  </tbody>\n",
       "</table>\n",
       "</div>"
      ],
      "text/plain": [
       "Empty DataFrame\n",
       "Columns: [product_category_name_english, product_category_name, product_id, sales, total_sold, num_orders, num_times_more_than_one, num_uniq_customers, mean_review_score]\n",
       "Index: []"
      ]
     },
     "execution_count": 11,
     "metadata": {},
     "output_type": "execute_result"
    }
   ],
   "source": [
    "product_2017_copy[~null_english & ~valid_category_name]"
   ]
  },
  {
   "cell_type": "code",
   "execution_count": 12,
   "metadata": {},
   "outputs": [],
   "source": [
    "# Fill the row with NaN product_category_name_english but valid product_category_name\n",
    "\n",
    "pc_gamer_port = (product_2017_copy['product_category_name'] == 'pc_gamer')\n",
    "\n",
    "product_2017_copy.loc[null_english & pc_gamer_port,'product_category_name_english'] = 'pc_gamer'\n",
    "\n",
    "product_2017_copy.loc[null_english & valid_category_name & ~pc_gamer_port,'product_category_name_english'] = 'kitchen_racks'"
   ]
  },
  {
   "cell_type": "code",
   "execution_count": 13,
   "metadata": {},
   "outputs": [
    {
     "data": {
      "text/html": [
       "<div>\n",
       "<style scoped>\n",
       "    .dataframe tbody tr th:only-of-type {\n",
       "        vertical-align: middle;\n",
       "    }\n",
       "\n",
       "    .dataframe tbody tr th {\n",
       "        vertical-align: top;\n",
       "    }\n",
       "\n",
       "    .dataframe thead th {\n",
       "        text-align: right;\n",
       "    }\n",
       "</style>\n",
       "<table border=\"1\" class=\"dataframe\">\n",
       "  <thead>\n",
       "    <tr style=\"text-align: right;\">\n",
       "      <th></th>\n",
       "      <th>product_category_name_english</th>\n",
       "      <th>product_category_name</th>\n",
       "      <th>product_id</th>\n",
       "      <th>sales</th>\n",
       "      <th>total_sold</th>\n",
       "      <th>num_orders</th>\n",
       "      <th>num_times_more_than_one</th>\n",
       "      <th>num_uniq_customers</th>\n",
       "      <th>mean_review_score</th>\n",
       "    </tr>\n",
       "  </thead>\n",
       "  <tbody>\n",
       "    <tr>\n",
       "      <th>1628</th>\n",
       "      <td>pc_gamer</td>\n",
       "      <td>pc_gamer</td>\n",
       "      <td>0105b5323d24fc655f73052694dbbb3a</td>\n",
       "      <td>519.96</td>\n",
       "      <td>4.0</td>\n",
       "      <td>4.0</td>\n",
       "      <td>0.0</td>\n",
       "      <td>4.0</td>\n",
       "      <td>3.5</td>\n",
       "    </tr>\n",
       "    <tr>\n",
       "      <th>5821</th>\n",
       "      <td>kitchen_racks</td>\n",
       "      <td>portateis_cozinha_e_preparadores_de_alimentos</td>\n",
       "      <td>6fd83eb3e0799b775e4f946bd66657c0</td>\n",
       "      <td>0.00</td>\n",
       "      <td>0.0</td>\n",
       "      <td>0.0</td>\n",
       "      <td>0.0</td>\n",
       "      <td>0.0</td>\n",
       "      <td>NaN</td>\n",
       "    </tr>\n",
       "    <tr>\n",
       "      <th>7325</th>\n",
       "      <td>kitchen_racks</td>\n",
       "      <td>portateis_cozinha_e_preparadores_de_alimentos</td>\n",
       "      <td>5d923ead886c44b86845f69e50520c3e</td>\n",
       "      <td>0.00</td>\n",
       "      <td>0.0</td>\n",
       "      <td>0.0</td>\n",
       "      <td>0.0</td>\n",
       "      <td>0.0</td>\n",
       "      <td>NaN</td>\n",
       "    </tr>\n",
       "    <tr>\n",
       "      <th>7478</th>\n",
       "      <td>pc_gamer</td>\n",
       "      <td>pc_gamer</td>\n",
       "      <td>6727051471a0fc4a0e7737b57bff2549</td>\n",
       "      <td>0.00</td>\n",
       "      <td>0.0</td>\n",
       "      <td>0.0</td>\n",
       "      <td>0.0</td>\n",
       "      <td>0.0</td>\n",
       "      <td>NaN</td>\n",
       "    </tr>\n",
       "    <tr>\n",
       "      <th>8819</th>\n",
       "      <td>kitchen_racks</td>\n",
       "      <td>portateis_cozinha_e_preparadores_de_alimentos</td>\n",
       "      <td>bed164d9d628cf0593003389c535c6e0</td>\n",
       "      <td>0.00</td>\n",
       "      <td>0.0</td>\n",
       "      <td>0.0</td>\n",
       "      <td>0.0</td>\n",
       "      <td>0.0</td>\n",
       "      <td>NaN</td>\n",
       "    </tr>\n",
       "    <tr>\n",
       "      <th>11039</th>\n",
       "      <td>kitchen_racks</td>\n",
       "      <td>portateis_cozinha_e_preparadores_de_alimentos</td>\n",
       "      <td>1220978a08a6b29a202bc015b18250e9</td>\n",
       "      <td>0.00</td>\n",
       "      <td>0.0</td>\n",
       "      <td>0.0</td>\n",
       "      <td>0.0</td>\n",
       "      <td>0.0</td>\n",
       "      <td>NaN</td>\n",
       "    </tr>\n",
       "    <tr>\n",
       "      <th>14266</th>\n",
       "      <td>kitchen_racks</td>\n",
       "      <td>portateis_cozinha_e_preparadores_de_alimentos</td>\n",
       "      <td>ae62bb0f95af63d64eae5f93dddea8d3</td>\n",
       "      <td>0.00</td>\n",
       "      <td>0.0</td>\n",
       "      <td>0.0</td>\n",
       "      <td>0.0</td>\n",
       "      <td>0.0</td>\n",
       "      <td>NaN</td>\n",
       "    </tr>\n",
       "    <tr>\n",
       "      <th>16182</th>\n",
       "      <td>kitchen_racks</td>\n",
       "      <td>portateis_cozinha_e_preparadores_de_alimentos</td>\n",
       "      <td>1954739d84629e7323a4295812a3e0ec</td>\n",
       "      <td>0.00</td>\n",
       "      <td>0.0</td>\n",
       "      <td>0.0</td>\n",
       "      <td>0.0</td>\n",
       "      <td>0.0</td>\n",
       "      <td>NaN</td>\n",
       "    </tr>\n",
       "    <tr>\n",
       "      <th>16930</th>\n",
       "      <td>pc_gamer</td>\n",
       "      <td>pc_gamer</td>\n",
       "      <td>dbe520fb381ad695a7e1f2807d20c765</td>\n",
       "      <td>0.00</td>\n",
       "      <td>0.0</td>\n",
       "      <td>0.0</td>\n",
       "      <td>0.0</td>\n",
       "      <td>0.0</td>\n",
       "      <td>NaN</td>\n",
       "    </tr>\n",
       "    <tr>\n",
       "      <th>17800</th>\n",
       "      <td>kitchen_racks</td>\n",
       "      <td>portateis_cozinha_e_preparadores_de_alimentos</td>\n",
       "      <td>c7a3f1a7f9eef146cc499368b578b884</td>\n",
       "      <td>0.00</td>\n",
       "      <td>0.0</td>\n",
       "      <td>0.0</td>\n",
       "      <td>0.0</td>\n",
       "      <td>0.0</td>\n",
       "      <td>NaN</td>\n",
       "    </tr>\n",
       "    <tr>\n",
       "      <th>18610</th>\n",
       "      <td>kitchen_racks</td>\n",
       "      <td>portateis_cozinha_e_preparadores_de_alimentos</td>\n",
       "      <td>7afdd65f79f63819ff5bee328843fa37</td>\n",
       "      <td>0.00</td>\n",
       "      <td>0.0</td>\n",
       "      <td>0.0</td>\n",
       "      <td>0.0</td>\n",
       "      <td>0.0</td>\n",
       "      <td>NaN</td>\n",
       "    </tr>\n",
       "    <tr>\n",
       "      <th>26890</th>\n",
       "      <td>kitchen_racks</td>\n",
       "      <td>portateis_cozinha_e_preparadores_de_alimentos</td>\n",
       "      <td>a4756663d007b0cd1af865754d08d968</td>\n",
       "      <td>0.00</td>\n",
       "      <td>0.0</td>\n",
       "      <td>0.0</td>\n",
       "      <td>0.0</td>\n",
       "      <td>0.0</td>\n",
       "      <td>NaN</td>\n",
       "    </tr>\n",
       "    <tr>\n",
       "      <th>29919</th>\n",
       "      <td>kitchen_racks</td>\n",
       "      <td>portateis_cozinha_e_preparadores_de_alimentos</td>\n",
       "      <td>cb9d764f38ee4d0c00af64d5c388f837</td>\n",
       "      <td>0.00</td>\n",
       "      <td>0.0</td>\n",
       "      <td>0.0</td>\n",
       "      <td>0.0</td>\n",
       "      <td>0.0</td>\n",
       "      <td>NaN</td>\n",
       "    </tr>\n",
       "  </tbody>\n",
       "</table>\n",
       "</div>"
      ],
      "text/plain": [
       "      product_category_name_english  \\\n",
       "1628                       pc_gamer   \n",
       "5821                  kitchen_racks   \n",
       "7325                  kitchen_racks   \n",
       "7478                       pc_gamer   \n",
       "8819                  kitchen_racks   \n",
       "11039                 kitchen_racks   \n",
       "14266                 kitchen_racks   \n",
       "16182                 kitchen_racks   \n",
       "16930                      pc_gamer   \n",
       "17800                 kitchen_racks   \n",
       "18610                 kitchen_racks   \n",
       "26890                 kitchen_racks   \n",
       "29919                 kitchen_racks   \n",
       "\n",
       "                               product_category_name  \\\n",
       "1628                                        pc_gamer   \n",
       "5821   portateis_cozinha_e_preparadores_de_alimentos   \n",
       "7325   portateis_cozinha_e_preparadores_de_alimentos   \n",
       "7478                                        pc_gamer   \n",
       "8819   portateis_cozinha_e_preparadores_de_alimentos   \n",
       "11039  portateis_cozinha_e_preparadores_de_alimentos   \n",
       "14266  portateis_cozinha_e_preparadores_de_alimentos   \n",
       "16182  portateis_cozinha_e_preparadores_de_alimentos   \n",
       "16930                                       pc_gamer   \n",
       "17800  portateis_cozinha_e_preparadores_de_alimentos   \n",
       "18610  portateis_cozinha_e_preparadores_de_alimentos   \n",
       "26890  portateis_cozinha_e_preparadores_de_alimentos   \n",
       "29919  portateis_cozinha_e_preparadores_de_alimentos   \n",
       "\n",
       "                             product_id   sales  total_sold  num_orders  \\\n",
       "1628   0105b5323d24fc655f73052694dbbb3a  519.96         4.0         4.0   \n",
       "5821   6fd83eb3e0799b775e4f946bd66657c0    0.00         0.0         0.0   \n",
       "7325   5d923ead886c44b86845f69e50520c3e    0.00         0.0         0.0   \n",
       "7478   6727051471a0fc4a0e7737b57bff2549    0.00         0.0         0.0   \n",
       "8819   bed164d9d628cf0593003389c535c6e0    0.00         0.0         0.0   \n",
       "11039  1220978a08a6b29a202bc015b18250e9    0.00         0.0         0.0   \n",
       "14266  ae62bb0f95af63d64eae5f93dddea8d3    0.00         0.0         0.0   \n",
       "16182  1954739d84629e7323a4295812a3e0ec    0.00         0.0         0.0   \n",
       "16930  dbe520fb381ad695a7e1f2807d20c765    0.00         0.0         0.0   \n",
       "17800  c7a3f1a7f9eef146cc499368b578b884    0.00         0.0         0.0   \n",
       "18610  7afdd65f79f63819ff5bee328843fa37    0.00         0.0         0.0   \n",
       "26890  a4756663d007b0cd1af865754d08d968    0.00         0.0         0.0   \n",
       "29919  cb9d764f38ee4d0c00af64d5c388f837    0.00         0.0         0.0   \n",
       "\n",
       "       num_times_more_than_one  num_uniq_customers  mean_review_score  \n",
       "1628                       0.0                 4.0                3.5  \n",
       "5821                       0.0                 0.0                NaN  \n",
       "7325                       0.0                 0.0                NaN  \n",
       "7478                       0.0                 0.0                NaN  \n",
       "8819                       0.0                 0.0                NaN  \n",
       "11039                      0.0                 0.0                NaN  \n",
       "14266                      0.0                 0.0                NaN  \n",
       "16182                      0.0                 0.0                NaN  \n",
       "16930                      0.0                 0.0                NaN  \n",
       "17800                      0.0                 0.0                NaN  \n",
       "18610                      0.0                 0.0                NaN  \n",
       "26890                      0.0                 0.0                NaN  \n",
       "29919                      0.0                 0.0                NaN  "
      ]
     },
     "execution_count": 13,
     "metadata": {},
     "output_type": "execute_result"
    }
   ],
   "source": [
    "product_2017_copy[null_english & valid_category_name]"
   ]
  },
  {
   "cell_type": "markdown",
   "metadata": {},
   "source": [
    "Now let's fill other NaN 'product_category_name_english' with 'unknown'"
   ]
  },
  {
   "cell_type": "code",
   "execution_count": 14,
   "metadata": {},
   "outputs": [],
   "source": [
    "product_2017_copy.loc[:,'product_category_name_english'].fillna('unknown', inplace=True)"
   ]
  },
  {
   "cell_type": "code",
   "execution_count": 15,
   "metadata": {},
   "outputs": [],
   "source": [
    "# Drop product_category_name as it's in Portuguese\n",
    "\n",
    "product_2017_copy.drop(columns='product_category_name', inplace=True)\n",
    "\n",
    "# Change product_category_name_english column name\n",
    "\n",
    "product_2017_copy.rename(columns = {'product_category_name_english': 'product_category'},\n",
    "                         inplace = True)"
   ]
  },
  {
   "cell_type": "code",
   "execution_count": 16,
   "metadata": {},
   "outputs": [
    {
     "name": "stdout",
     "output_type": "stream",
     "text": [
      "<class 'pandas.core.frame.DataFrame'>\n",
      "RangeIndex: 32951 entries, 0 to 32950\n",
      "Data columns (total 8 columns):\n",
      " #   Column                   Non-Null Count  Dtype  \n",
      "---  ------                   --------------  -----  \n",
      " 0   product_category         32951 non-null  object \n",
      " 1   product_id               32951 non-null  object \n",
      " 2   sales                    32951 non-null  float64\n",
      " 3   total_sold               32951 non-null  float64\n",
      " 4   num_orders               32951 non-null  float64\n",
      " 5   num_times_more_than_one  32951 non-null  float64\n",
      " 6   num_uniq_customers       32951 non-null  float64\n",
      " 7   mean_review_score        16716 non-null  float64\n",
      "dtypes: float64(6), object(2)\n",
      "memory usage: 2.0+ MB\n"
     ]
    }
   ],
   "source": [
    "product_2017_copy.info()"
   ]
  },
  {
   "cell_type": "code",
   "execution_count": 17,
   "metadata": {},
   "outputs": [
    {
     "data": {
      "text/plain": [
       "array(['perfumery', 'art', 'sports_leisure', 'baby', 'housewares',\n",
       "       'musical_instruments', 'cool_stuff', 'furniture_decor',\n",
       "       'home_appliances', 'toys', 'bed_bath_table',\n",
       "       'construction_tools_safety', 'computers_accessories',\n",
       "       'health_beauty', 'luggage_accessories', 'garden_tools',\n",
       "       'office_furniture', 'auto', 'electronics', 'fashion_shoes',\n",
       "       'telephony', 'stationery', 'fashion_bags_accessories', 'computers',\n",
       "       'home_construction', 'watches_gifts',\n",
       "       'construction_tools_construction', 'pet_shop', 'small_appliances',\n",
       "       'agro_industry_and_commerce', 'unknown', 'furniture_living_room',\n",
       "       'signaling_and_security', 'air_conditioning', 'consoles_games',\n",
       "       'books_general_interest', 'costruction_tools_tools',\n",
       "       'fashion_underwear_beach', 'fashion_male_clothing',\n",
       "       'kitchen_dining_laundry_garden_furniture',\n",
       "       'industry_commerce_and_business', 'fixed_telephony',\n",
       "       'construction_tools_lights', 'books_technical',\n",
       "       'home_appliances_2', 'party_supplies', 'drinks', 'market_place',\n",
       "       'la_cuisine', 'costruction_tools_garden', 'fashio_female_clothing',\n",
       "       'home_confort', 'audio', 'food_drink', 'music', 'food',\n",
       "       'tablets_printing_image', 'books_imported',\n",
       "       'small_appliances_home_oven_and_coffee', 'fashion_sport',\n",
       "       'christmas_supplies', 'fashion_childrens_clothes', 'dvds_blu_ray',\n",
       "       'arts_and_craftmanship', 'pc_gamer', 'furniture_bedroom',\n",
       "       'cine_photo', 'diapers_and_hygiene', 'flowers', 'home_comfort_2',\n",
       "       'kitchen_racks', 'security_and_services',\n",
       "       'furniture_mattress_and_upholstery', 'cds_dvds_musicals'],\n",
       "      dtype=object)"
      ]
     },
     "execution_count": 17,
     "metadata": {},
     "output_type": "execute_result"
    }
   ],
   "source": [
    "product_2017_copy['product_category'].unique()"
   ]
  },
  {
   "cell_type": "code",
   "execution_count": 18,
   "metadata": {},
   "outputs": [
    {
     "data": {
      "text/plain": [
       "(74,)"
      ]
     },
     "execution_count": 18,
     "metadata": {},
     "output_type": "execute_result"
    }
   ],
   "source": [
    "product_2017_copy['product_category'].unique().shape"
   ]
  },
  {
   "cell_type": "markdown",
   "metadata": {},
   "source": [
    "## (2b) Cleaning product_category: category shrinking"
   ]
  },
  {
   "cell_type": "code",
   "execution_count": 19,
   "metadata": {},
   "outputs": [],
   "source": [
    "# fashion category\n",
    "\n",
    "cat_0 = 'fashion'\n",
    "group_0 = ['fashio']\n",
    "\n",
    "for cat_name in group_0:\n",
    "    product_2017_copy['product_category'] = product_2017_copy['product_category'].apply(lambda x: cat_0 if cat_name in x else x)"
   ]
  },
  {
   "cell_type": "code",
   "execution_count": 20,
   "metadata": {},
   "outputs": [],
   "source": [
    "# home & furniture\n",
    "\n",
    "cat_1 = 'home, furniture & appliances'\n",
    "group_1 = ['home', 'furniture', 'housewares', 'appliances', \n",
    "           'bed_bath_table', 'air_conditioning', 'flowers', 'kitchen']\n",
    "\n",
    "for cat_name in group_1:\n",
    "    product_2017_copy['product_category'] = product_2017_copy['product_category'].apply(lambda x: cat_1 if cat_name in x else x)"
   ]
  },
  {
   "cell_type": "code",
   "execution_count": 21,
   "metadata": {},
   "outputs": [],
   "source": [
    "# food & drink\n",
    "\n",
    "cat_2 = 'food & drink'\n",
    "group_2 = ['food', 'drink', 'cuisine']\n",
    "\n",
    "for cat_name in group_2:\n",
    "    product_2017_copy['product_category'] = product_2017_copy['product_category'].apply(lambda x: cat_2 if cat_name in x else x)"
   ]
  },
  {
   "cell_type": "code",
   "execution_count": 22,
   "metadata": {},
   "outputs": [],
   "source": [
    "# computer stuffs\n",
    "\n",
    "cat_3 = 'PC, electronics & accessories'\n",
    "group_3 = ['computers', 'pc', 'dvds', 'cds', 'audio', \n",
    "           'tablets', 'game', 'electronics', 'music', 'telephony']\n",
    "\n",
    "for cat_name in group_3:\n",
    "    product_2017_copy['product_category'] = product_2017_copy['product_category'].apply(lambda x: cat_3 if cat_name in x else x)"
   ]
  },
  {
   "cell_type": "code",
   "execution_count": 23,
   "metadata": {},
   "outputs": [],
   "source": [
    "# health & beauty stuffs\n",
    "\n",
    "cat_4 = \"health, beauty & hygiene\"\n",
    "group_4 = ['perfumery', 'baby', 'health', 'beauty', 'hygiene', 'sports']\n",
    "\n",
    "for cat_name in group_4:\n",
    "    product_2017_copy['product_category'] = product_2017_copy['product_category'].apply(lambda x: cat_4 if cat_name in x else x)"
   ]
  },
  {
   "cell_type": "code",
   "execution_count": 24,
   "metadata": {},
   "outputs": [],
   "source": [
    "# books\n",
    "\n",
    "cat_5 = 'books'\n",
    "group_5 = ['books']\n",
    "\n",
    "for cat_name in group_5:\n",
    "    product_2017_copy['product_category'] = product_2017_copy['product_category'].apply(lambda x: cat_5 if cat_name in x else x)"
   ]
  },
  {
   "cell_type": "code",
   "execution_count": 25,
   "metadata": {},
   "outputs": [],
   "source": [
    "# construction tools\n",
    "\n",
    "cat_6 = 'construction & garden tools'\n",
    "group_6 = ['garden_tools', 'construction_tools', 'costruction_tools']\n",
    "\n",
    "for cat_name in group_6:\n",
    "    product_2017_copy['product_category'] = product_2017_copy['product_category'].apply(lambda x: cat_6 if cat_name in x else x)"
   ]
  },
  {
   "cell_type": "code",
   "execution_count": 26,
   "metadata": {},
   "outputs": [],
   "source": [
    "# stationery stuffs\n",
    "\n",
    "cat_7 = 'toys, arts, craftmanship, stationery & accessories'\n",
    "group_7 = ['toys', 'art', 'stationery', 'supplies', 'cine_photo']\n",
    "\n",
    "for cat_name in group_7:\n",
    "    product_2017_copy['product_category'] = product_2017_copy['product_category'].apply(lambda x: cat_7 if cat_name in x else x)"
   ]
  },
  {
   "cell_type": "code",
   "execution_count": 27,
   "metadata": {},
   "outputs": [],
   "source": [
    "# security \n",
    "\n",
    "cat_8 = 'security'\n",
    "group_8 = ['security']\n",
    "\n",
    "for cat_name in group_8:\n",
    "    product_2017_copy['product_category'] = product_2017_copy['product_category'].apply(lambda x: cat_8 if cat_name in x else x)"
   ]
  },
  {
   "cell_type": "code",
   "execution_count": 28,
   "metadata": {},
   "outputs": [],
   "source": [
    "# industry & commerce\n",
    "\n",
    "cat_9 = 'industry & commerce'\n",
    "group_9 = ['industry', 'commerce', 'market']\n",
    "\n",
    "for cat_name in group_9:\n",
    "    product_2017_copy['product_category'] = product_2017_copy['product_category'].apply(lambda x: cat_9 if cat_name in x else x)"
   ]
  },
  {
   "cell_type": "code",
   "execution_count": 29,
   "metadata": {},
   "outputs": [
    {
     "data": {
      "text/plain": [
       "array(['health, beauty & hygiene',\n",
       "       'toys, arts, craftmanship, stationery & accessories',\n",
       "       'home, furniture & appliances', 'PC, electronics & accessories',\n",
       "       'cool_stuff', 'construction & garden tools', 'luggage_accessories',\n",
       "       'auto', 'fashion', 'watches_gifts', 'pet_shop',\n",
       "       'industry & commerce', 'unknown', 'security', 'books',\n",
       "       'food & drink'], dtype=object)"
      ]
     },
     "execution_count": 29,
     "metadata": {},
     "output_type": "execute_result"
    }
   ],
   "source": [
    "product_2017_copy['product_category'].unique()"
   ]
  },
  {
   "cell_type": "code",
   "execution_count": 30,
   "metadata": {},
   "outputs": [
    {
     "data": {
      "text/plain": [
       "(16,)"
      ]
     },
     "execution_count": 30,
     "metadata": {},
     "output_type": "execute_result"
    }
   ],
   "source": [
    "product_2017_copy['product_category'].unique().shape"
   ]
  },
  {
   "cell_type": "code",
   "execution_count": 31,
   "metadata": {},
   "outputs": [
    {
     "data": {
      "text/html": [
       "<div>\n",
       "<style scoped>\n",
       "    .dataframe tbody tr th:only-of-type {\n",
       "        vertical-align: middle;\n",
       "    }\n",
       "\n",
       "    .dataframe tbody tr th {\n",
       "        vertical-align: top;\n",
       "    }\n",
       "\n",
       "    .dataframe thead th {\n",
       "        text-align: right;\n",
       "    }\n",
       "</style>\n",
       "<table border=\"1\" class=\"dataframe\">\n",
       "  <thead>\n",
       "    <tr style=\"text-align: right;\">\n",
       "      <th></th>\n",
       "      <th>product_category</th>\n",
       "      <th>product_id</th>\n",
       "      <th>sales</th>\n",
       "      <th>total_sold</th>\n",
       "      <th>num_orders</th>\n",
       "      <th>num_times_more_than_one</th>\n",
       "      <th>num_uniq_customers</th>\n",
       "      <th>mean_review_score</th>\n",
       "    </tr>\n",
       "  </thead>\n",
       "  <tbody>\n",
       "    <tr>\n",
       "      <th>0</th>\n",
       "      <td>health, beauty &amp; hygiene</td>\n",
       "      <td>1e9e8ef04dbcff4541ed26657ea517e5</td>\n",
       "      <td>0.00</td>\n",
       "      <td>0.0</td>\n",
       "      <td>0.0</td>\n",
       "      <td>0.0</td>\n",
       "      <td>0.0</td>\n",
       "      <td>NaN</td>\n",
       "    </tr>\n",
       "    <tr>\n",
       "      <th>1</th>\n",
       "      <td>toys, arts, craftmanship, stationery &amp; accesso...</td>\n",
       "      <td>3aa071139cb16b67ca9e5dea641aaa2f</td>\n",
       "      <td>0.00</td>\n",
       "      <td>0.0</td>\n",
       "      <td>0.0</td>\n",
       "      <td>0.0</td>\n",
       "      <td>0.0</td>\n",
       "      <td>NaN</td>\n",
       "    </tr>\n",
       "    <tr>\n",
       "      <th>2</th>\n",
       "      <td>health, beauty &amp; hygiene</td>\n",
       "      <td>96bd76ec8810374ed1b65e291975717f</td>\n",
       "      <td>0.00</td>\n",
       "      <td>0.0</td>\n",
       "      <td>0.0</td>\n",
       "      <td>0.0</td>\n",
       "      <td>0.0</td>\n",
       "      <td>NaN</td>\n",
       "    </tr>\n",
       "    <tr>\n",
       "      <th>3</th>\n",
       "      <td>health, beauty &amp; hygiene</td>\n",
       "      <td>cef67bcfe19066a932b7673e239eb23d</td>\n",
       "      <td>0.00</td>\n",
       "      <td>0.0</td>\n",
       "      <td>0.0</td>\n",
       "      <td>0.0</td>\n",
       "      <td>0.0</td>\n",
       "      <td>NaN</td>\n",
       "    </tr>\n",
       "    <tr>\n",
       "      <th>4</th>\n",
       "      <td>home, furniture &amp; appliances</td>\n",
       "      <td>9dc1a7de274444849c219cff195d0b71</td>\n",
       "      <td>0.00</td>\n",
       "      <td>0.0</td>\n",
       "      <td>0.0</td>\n",
       "      <td>0.0</td>\n",
       "      <td>0.0</td>\n",
       "      <td>NaN</td>\n",
       "    </tr>\n",
       "    <tr>\n",
       "      <th>...</th>\n",
       "      <td>...</td>\n",
       "      <td>...</td>\n",
       "      <td>...</td>\n",
       "      <td>...</td>\n",
       "      <td>...</td>\n",
       "      <td>...</td>\n",
       "      <td>...</td>\n",
       "      <td>...</td>\n",
       "    </tr>\n",
       "    <tr>\n",
       "      <th>32946</th>\n",
       "      <td>home, furniture &amp; appliances</td>\n",
       "      <td>a0b7d5a992ccda646f2d34e418fff5a0</td>\n",
       "      <td>69.90</td>\n",
       "      <td>1.0</td>\n",
       "      <td>1.0</td>\n",
       "      <td>0.0</td>\n",
       "      <td>1.0</td>\n",
       "      <td>2.0</td>\n",
       "    </tr>\n",
       "    <tr>\n",
       "      <th>32947</th>\n",
       "      <td>construction &amp; garden tools</td>\n",
       "      <td>bf4538d88321d0fd4412a93c974510e6</td>\n",
       "      <td>0.00</td>\n",
       "      <td>0.0</td>\n",
       "      <td>0.0</td>\n",
       "      <td>0.0</td>\n",
       "      <td>0.0</td>\n",
       "      <td>NaN</td>\n",
       "    </tr>\n",
       "    <tr>\n",
       "      <th>32948</th>\n",
       "      <td>home, furniture &amp; appliances</td>\n",
       "      <td>9a7c6041fa9592d9d9ef6cfe62a71f8c</td>\n",
       "      <td>127.50</td>\n",
       "      <td>1.0</td>\n",
       "      <td>1.0</td>\n",
       "      <td>0.0</td>\n",
       "      <td>1.0</td>\n",
       "      <td>5.0</td>\n",
       "    </tr>\n",
       "    <tr>\n",
       "      <th>32949</th>\n",
       "      <td>PC, electronics &amp; accessories</td>\n",
       "      <td>83808703fc0706a22e264b9d75f04a2e</td>\n",
       "      <td>79.42</td>\n",
       "      <td>2.0</td>\n",
       "      <td>1.0</td>\n",
       "      <td>1.0</td>\n",
       "      <td>1.0</td>\n",
       "      <td>5.0</td>\n",
       "    </tr>\n",
       "    <tr>\n",
       "      <th>32950</th>\n",
       "      <td>home, furniture &amp; appliances</td>\n",
       "      <td>106392145fca363410d287a815be6de4</td>\n",
       "      <td>0.00</td>\n",
       "      <td>0.0</td>\n",
       "      <td>0.0</td>\n",
       "      <td>0.0</td>\n",
       "      <td>0.0</td>\n",
       "      <td>NaN</td>\n",
       "    </tr>\n",
       "  </tbody>\n",
       "</table>\n",
       "<p>32951 rows × 8 columns</p>\n",
       "</div>"
      ],
      "text/plain": [
       "                                        product_category  \\\n",
       "0                               health, beauty & hygiene   \n",
       "1      toys, arts, craftmanship, stationery & accesso...   \n",
       "2                               health, beauty & hygiene   \n",
       "3                               health, beauty & hygiene   \n",
       "4                           home, furniture & appliances   \n",
       "...                                                  ...   \n",
       "32946                       home, furniture & appliances   \n",
       "32947                        construction & garden tools   \n",
       "32948                       home, furniture & appliances   \n",
       "32949                      PC, electronics & accessories   \n",
       "32950                       home, furniture & appliances   \n",
       "\n",
       "                             product_id   sales  total_sold  num_orders  \\\n",
       "0      1e9e8ef04dbcff4541ed26657ea517e5    0.00         0.0         0.0   \n",
       "1      3aa071139cb16b67ca9e5dea641aaa2f    0.00         0.0         0.0   \n",
       "2      96bd76ec8810374ed1b65e291975717f    0.00         0.0         0.0   \n",
       "3      cef67bcfe19066a932b7673e239eb23d    0.00         0.0         0.0   \n",
       "4      9dc1a7de274444849c219cff195d0b71    0.00         0.0         0.0   \n",
       "...                                 ...     ...         ...         ...   \n",
       "32946  a0b7d5a992ccda646f2d34e418fff5a0   69.90         1.0         1.0   \n",
       "32947  bf4538d88321d0fd4412a93c974510e6    0.00         0.0         0.0   \n",
       "32948  9a7c6041fa9592d9d9ef6cfe62a71f8c  127.50         1.0         1.0   \n",
       "32949  83808703fc0706a22e264b9d75f04a2e   79.42         2.0         1.0   \n",
       "32950  106392145fca363410d287a815be6de4    0.00         0.0         0.0   \n",
       "\n",
       "       num_times_more_than_one  num_uniq_customers  mean_review_score  \n",
       "0                          0.0                 0.0                NaN  \n",
       "1                          0.0                 0.0                NaN  \n",
       "2                          0.0                 0.0                NaN  \n",
       "3                          0.0                 0.0                NaN  \n",
       "4                          0.0                 0.0                NaN  \n",
       "...                        ...                 ...                ...  \n",
       "32946                      0.0                 1.0                2.0  \n",
       "32947                      0.0                 0.0                NaN  \n",
       "32948                      0.0                 1.0                5.0  \n",
       "32949                      1.0                 1.0                5.0  \n",
       "32950                      0.0                 0.0                NaN  \n",
       "\n",
       "[32951 rows x 8 columns]"
      ]
     },
     "execution_count": 31,
     "metadata": {},
     "output_type": "execute_result"
    }
   ],
   "source": [
    "product_2017_copy"
   ]
  },
  {
   "cell_type": "markdown",
   "metadata": {},
   "source": [
    "## (2c) Cleaning mean_review_score"
   ]
  },
  {
   "cell_type": "markdown",
   "metadata": {},
   "source": [
    "First, we look at the distribution of mean_review_score"
   ]
  },
  {
   "cell_type": "code",
   "execution_count": 32,
   "metadata": {},
   "outputs": [
    {
     "data": {
      "text/plain": [
       "<AxesSubplot:xlabel='mean_review_score', ylabel='Count'>"
      ]
     },
     "execution_count": 32,
     "metadata": {},
     "output_type": "execute_result"
    },
    {
     "data": {
      "image/png": "[encoded data removed]",
      "text/plain": [
       "<Figure size 432x288 with 1 Axes>"
      ]
     },
     "metadata": {
      "needs_background": "light"
     },
     "output_type": "display_data"
    }
   ],
   "source": [
    "sns.histplot(data=product_2017_copy, x='mean_review_score')"
   ]
  },
  {
   "cell_type": "code",
   "execution_count": 32,
   "metadata": {},
   "outputs": [
    {
     "name": "stdout",
     "output_type": "stream",
     "text": [
      "Probability of unsold products = 0.490060999666171\n"
     ]
    }
   ],
   "source": [
    "# proportion of unsold products \n",
    "\n",
    "never_sold = product_2017_copy['total_sold']==0\n",
    "\n",
    "print(f'Probability of unsold products = {never_sold.mean()}')"
   ]
  },
  {
   "cell_type": "code",
   "execution_count": 33,
   "metadata": {},
   "outputs": [
    {
     "name": "stdout",
     "output_type": "stream",
     "text": [
      "Probability of sold products = 0.2888531455798003\n"
     ]
    }
   ],
   "source": [
    "# proportion of products sold only once\n",
    "\n",
    "ordered_once = product_2017_copy['total_sold']==1\n",
    "\n",
    "ordered_once.mean()\n",
    "\n",
    "print(f'Probability of sold products = {ordered_once.mean()}')"
   ]
  },
  {
   "cell_type": "code",
   "execution_count": 34,
   "metadata": {},
   "outputs": [
    {
     "name": "stdout",
     "output_type": "stream",
     "text": [
      "Probability of products sold only once, given they are sold = 0.5664464678926382\n"
     ]
    }
   ],
   "source": [
    "# probability of a product is sold only once, given that the product is actually sold\n",
    "\n",
    "p = ordered_once.mean()/(~never_sold).mean()\n",
    "\n",
    "print(f'Probability of products sold only once, given they are sold = {p}')"
   ]
  },
  {
   "cell_type": "code",
   "execution_count": 35,
   "metadata": {},
   "outputs": [],
   "source": [
    "# We impute missing values of mean_review_score of SOLD products with the median\n",
    "\n",
    "review_median = product_2017_copy['mean_review_score'].median()\n",
    "product_2017_copy.loc[~never_sold, 'mean_review_score'] = product_2017_copy.loc[~never_sold, 'mean_review_score'].fillna(review_median)"
   ]
  },
  {
   "cell_type": "code",
   "execution_count": 36,
   "metadata": {},
   "outputs": [
    {
     "name": "stdout",
     "output_type": "stream",
     "text": [
      "<class 'pandas.core.frame.DataFrame'>\n",
      "RangeIndex: 32951 entries, 0 to 32950\n",
      "Data columns (total 8 columns):\n",
      " #   Column                   Non-Null Count  Dtype  \n",
      "---  ------                   --------------  -----  \n",
      " 0   product_category         32951 non-null  object \n",
      " 1   product_id               32951 non-null  object \n",
      " 2   sales                    32951 non-null  float64\n",
      " 3   total_sold               32951 non-null  float64\n",
      " 4   num_orders               32951 non-null  float64\n",
      " 5   num_times_more_than_one  32951 non-null  float64\n",
      " 6   num_uniq_customers       32951 non-null  float64\n",
      " 7   mean_review_score        16803 non-null  float64\n",
      "dtypes: float64(6), object(2)\n",
      "memory usage: 2.0+ MB\n"
     ]
    }
   ],
   "source": [
    "product_2017_copy.info()"
   ]
  },
  {
   "cell_type": "code",
   "execution_count": 37,
   "metadata": {},
   "outputs": [
    {
     "name": "stdout",
     "output_type": "stream",
     "text": [
      "<class 'pandas.core.frame.DataFrame'>\n",
      "Int64Index: 16803 entries, 6 to 32949\n",
      "Data columns (total 8 columns):\n",
      " #   Column                   Non-Null Count  Dtype  \n",
      "---  ------                   --------------  -----  \n",
      " 0   product_category         16803 non-null  object \n",
      " 1   product_id               16803 non-null  object \n",
      " 2   sales                    16803 non-null  float64\n",
      " 3   total_sold               16803 non-null  float64\n",
      " 4   num_orders               16803 non-null  float64\n",
      " 5   num_times_more_than_one  16803 non-null  float64\n",
      " 6   num_uniq_customers       16803 non-null  float64\n",
      " 7   mean_review_score        16803 non-null  float64\n",
      "dtypes: float64(6), object(2)\n",
      "memory usage: 1.2+ MB\n"
     ]
    }
   ],
   "source": [
    "product_2017_copy[~never_sold].info()"
   ]
  },
  {
   "cell_type": "markdown",
   "metadata": {},
   "source": [
    "# 3. Aggregating"
   ]
  },
  {
   "cell_type": "code",
   "execution_count": 44,
   "metadata": {},
   "outputs": [],
   "source": [
    "product_2017_copy['unsold'] = np.where((product_2017_copy['total_sold']==0), 1, 0)"
   ]
  },
  {
   "cell_type": "code",
   "execution_count": 128,
   "metadata": {},
   "outputs": [],
   "source": [
    "product_agg = product_2017_copy.copy()\n",
    "#product_agg.drop(columns='product_id', inplace=True)\n",
    "\n",
    "agg = {'product_id': 'count',\n",
    "       'unsold': 'mean',\n",
    "       'sales': 'sum',\n",
    "       'total_sold': 'sum',\n",
    "       'num_orders': 'sum',\n",
    "       'num_times_more_than_one': 'sum',\n",
    "       'num_uniq_customers': 'mean',\n",
    "       'mean_review_score': 'median'}\n",
    "\n",
    "product_agg = product_agg.groupby('product_category').agg(agg)\n",
    "\n",
    "product_agg.rename(columns = {'product_id': 'num_products',\n",
    "                             'unsold': 'unsold_products_proportion',\n",
    "                             'sales': 'total_sales',\n",
    "                             'num_orders': 'total_orders',\n",
    "                             'num_times_more_than_one': 'total_times_more_than_one',\n",
    "                             'num_uniq_customers': 'mean_uniq_customers',\n",
    "                             'mean_review_score': 'median_of_mean_review_score'}, inplace = True)"
   ]
  },
  {
   "cell_type": "code",
   "execution_count": 129,
   "metadata": {},
   "outputs": [
    {
     "data": {
      "text/html": [
       "<div>\n",
       "<style scoped>\n",
       "    .dataframe tbody tr th:only-of-type {\n",
       "        vertical-align: middle;\n",
       "    }\n",
       "\n",
       "    .dataframe tbody tr th {\n",
       "        vertical-align: top;\n",
       "    }\n",
       "\n",
       "    .dataframe thead th {\n",
       "        text-align: right;\n",
       "    }\n",
       "</style>\n",
       "<table border=\"1\" class=\"dataframe\">\n",
       "  <thead>\n",
       "    <tr style=\"text-align: right;\">\n",
       "      <th></th>\n",
       "      <th>num_products</th>\n",
       "      <th>unsold_products_proportion</th>\n",
       "      <th>total_sales</th>\n",
       "      <th>total_sold</th>\n",
       "      <th>total_orders</th>\n",
       "      <th>total_times_more_than_one</th>\n",
       "      <th>mean_uniq_customers</th>\n",
       "      <th>median_of_mean_review_score</th>\n",
       "    </tr>\n",
       "    <tr>\n",
       "      <th>product_category</th>\n",
       "      <th></th>\n",
       "      <th></th>\n",
       "      <th></th>\n",
       "      <th></th>\n",
       "      <th></th>\n",
       "      <th></th>\n",
       "      <th></th>\n",
       "      <th></th>\n",
       "    </tr>\n",
       "  </thead>\n",
       "  <tbody>\n",
       "    <tr>\n",
       "      <th>PC, electronics &amp; accessories</th>\n",
       "      <td>4188</td>\n",
       "      <td>0.449618</td>\n",
       "      <td>961359.22</td>\n",
       "      <td>7559.0</td>\n",
       "      <td>6856.0</td>\n",
       "      <td>493.0</td>\n",
       "      <td>1.629895</td>\n",
       "      <td>4.500000</td>\n",
       "    </tr>\n",
       "    <tr>\n",
       "      <th>auto</th>\n",
       "      <td>1900</td>\n",
       "      <td>0.626316</td>\n",
       "      <td>234815.93</td>\n",
       "      <td>1560.0</td>\n",
       "      <td>1431.0</td>\n",
       "      <td>80.0</td>\n",
       "      <td>0.751579</td>\n",
       "      <td>4.633333</td>\n",
       "    </tr>\n",
       "    <tr>\n",
       "      <th>books</th>\n",
       "      <td>370</td>\n",
       "      <td>0.629730</td>\n",
       "      <td>25156.21</td>\n",
       "      <td>287.0</td>\n",
       "      <td>275.0</td>\n",
       "      <td>7.0</td>\n",
       "      <td>0.743243</td>\n",
       "      <td>5.000000</td>\n",
       "    </tr>\n",
       "    <tr>\n",
       "      <th>construction &amp; garden tools</th>\n",
       "      <td>1449</td>\n",
       "      <td>0.617667</td>\n",
       "      <td>301690.24</td>\n",
       "      <td>2706.0</td>\n",
       "      <td>2224.0</td>\n",
       "      <td>343.0</td>\n",
       "      <td>1.528640</td>\n",
       "      <td>4.750000</td>\n",
       "    </tr>\n",
       "    <tr>\n",
       "      <th>cool_stuff</th>\n",
       "      <td>789</td>\n",
       "      <td>0.286439</td>\n",
       "      <td>382522.07</td>\n",
       "      <td>2271.0</td>\n",
       "      <td>2181.0</td>\n",
       "      <td>70.0</td>\n",
       "      <td>2.761724</td>\n",
       "      <td>4.555556</td>\n",
       "    </tr>\n",
       "    <tr>\n",
       "      <th>fashion</th>\n",
       "      <td>1221</td>\n",
       "      <td>0.303849</td>\n",
       "      <td>113810.01</td>\n",
       "      <td>1550.0</td>\n",
       "      <td>1487.0</td>\n",
       "      <td>53.0</td>\n",
       "      <td>1.212121</td>\n",
       "      <td>4.569444</td>\n",
       "    </tr>\n",
       "    <tr>\n",
       "      <th>food &amp; drink</th>\n",
       "      <td>277</td>\n",
       "      <td>0.588448</td>\n",
       "      <td>21722.15</td>\n",
       "      <td>341.0</td>\n",
       "      <td>291.0</td>\n",
       "      <td>32.0</td>\n",
       "      <td>1.039711</td>\n",
       "      <td>4.888889</td>\n",
       "    </tr>\n",
       "    <tr>\n",
       "      <th>health, beauty &amp; hygiene</th>\n",
       "      <td>7110</td>\n",
       "      <td>0.514487</td>\n",
       "      <td>1276311.86</td>\n",
       "      <td>10598.0</td>\n",
       "      <td>9799.0</td>\n",
       "      <td>603.0</td>\n",
       "      <td>1.371589</td>\n",
       "      <td>4.666667</td>\n",
       "    </tr>\n",
       "    <tr>\n",
       "      <th>home, furniture &amp; appliances</th>\n",
       "      <td>9846</td>\n",
       "      <td>0.488015</td>\n",
       "      <td>1477225.82</td>\n",
       "      <td>14633.0</td>\n",
       "      <td>12579.0</td>\n",
       "      <td>1441.0</td>\n",
       "      <td>1.272903</td>\n",
       "      <td>4.333333</td>\n",
       "    </tr>\n",
       "    <tr>\n",
       "      <th>industry &amp; commerce</th>\n",
       "      <td>246</td>\n",
       "      <td>0.491870</td>\n",
       "      <td>57150.78</td>\n",
       "      <td>282.0</td>\n",
       "      <td>258.0</td>\n",
       "      <td>15.0</td>\n",
       "      <td>1.040650</td>\n",
       "      <td>4.500000</td>\n",
       "    </tr>\n",
       "    <tr>\n",
       "      <th>luggage_accessories</th>\n",
       "      <td>349</td>\n",
       "      <td>0.518625</td>\n",
       "      <td>75088.70</td>\n",
       "      <td>590.0</td>\n",
       "      <td>567.0</td>\n",
       "      <td>19.0</td>\n",
       "      <td>1.618911</td>\n",
       "      <td>4.958333</td>\n",
       "    </tr>\n",
       "    <tr>\n",
       "      <th>pet_shop</th>\n",
       "      <td>719</td>\n",
       "      <td>0.488178</td>\n",
       "      <td>84156.32</td>\n",
       "      <td>774.0</td>\n",
       "      <td>718.0</td>\n",
       "      <td>41.0</td>\n",
       "      <td>0.994437</td>\n",
       "      <td>4.645105</td>\n",
       "    </tr>\n",
       "    <tr>\n",
       "      <th>security</th>\n",
       "      <td>95</td>\n",
       "      <td>0.778947</td>\n",
       "      <td>4532.10</td>\n",
       "      <td>46.0</td>\n",
       "      <td>35.0</td>\n",
       "      <td>5.0</td>\n",
       "      <td>0.368421</td>\n",
       "      <td>4.333333</td>\n",
       "    </tr>\n",
       "    <tr>\n",
       "      <th>toys, arts, craftmanship, stationery &amp; accessories</th>\n",
       "      <td>2453</td>\n",
       "      <td>0.473298</td>\n",
       "      <td>405628.60</td>\n",
       "      <td>3639.0</td>\n",
       "      <td>3500.0</td>\n",
       "      <td>110.0</td>\n",
       "      <td>1.425194</td>\n",
       "      <td>4.714286</td>\n",
       "    </tr>\n",
       "    <tr>\n",
       "      <th>unknown</th>\n",
       "      <td>610</td>\n",
       "      <td>0.378689</td>\n",
       "      <td>100314.66</td>\n",
       "      <td>880.0</td>\n",
       "      <td>791.0</td>\n",
       "      <td>71.0</td>\n",
       "      <td>1.295082</td>\n",
       "      <td>4.500000</td>\n",
       "    </tr>\n",
       "    <tr>\n",
       "      <th>watches_gifts</th>\n",
       "      <td>1329</td>\n",
       "      <td>0.455229</td>\n",
       "      <td>475834.60</td>\n",
       "      <td>2232.0</td>\n",
       "      <td>2150.0</td>\n",
       "      <td>56.0</td>\n",
       "      <td>1.611738</td>\n",
       "      <td>4.666667</td>\n",
       "    </tr>\n",
       "  </tbody>\n",
       "</table>\n",
       "</div>"
      ],
      "text/plain": [
       "                                                    num_products  \\\n",
       "product_category                                                   \n",
       "PC, electronics & accessories                               4188   \n",
       "auto                                                        1900   \n",
       "books                                                        370   \n",
       "construction & garden tools                                 1449   \n",
       "cool_stuff                                                   789   \n",
       "fashion                                                     1221   \n",
       "food & drink                                                 277   \n",
       "health, beauty & hygiene                                    7110   \n",
       "home, furniture & appliances                                9846   \n",
       "industry & commerce                                          246   \n",
       "luggage_accessories                                          349   \n",
       "pet_shop                                                     719   \n",
       "security                                                      95   \n",
       "toys, arts, craftmanship, stationery & accessories          2453   \n",
       "unknown                                                      610   \n",
       "watches_gifts                                               1329   \n",
       "\n",
       "                                                    unsold_products_proportion  \\\n",
       "product_category                                                                 \n",
       "PC, electronics & accessories                                         0.449618   \n",
       "auto                                                                  0.626316   \n",
       "books                                                                 0.629730   \n",
       "construction & garden tools                                           0.617667   \n",
       "cool_stuff                                                            0.286439   \n",
       "fashion                                                               0.303849   \n",
       "food & drink                                                          0.588448   \n",
       "health, beauty & hygiene                                              0.514487   \n",
       "home, furniture & appliances                                          0.488015   \n",
       "industry & commerce                                                   0.491870   \n",
       "luggage_accessories                                                   0.518625   \n",
       "pet_shop                                                              0.488178   \n",
       "security                                                              0.778947   \n",
       "toys, arts, craftmanship, stationery & accessories                    0.473298   \n",
       "unknown                                                               0.378689   \n",
       "watches_gifts                                                         0.455229   \n",
       "\n",
       "                                                    total_sales  total_sold  \\\n",
       "product_category                                                              \n",
       "PC, electronics & accessories                         961359.22      7559.0   \n",
       "auto                                                  234815.93      1560.0   \n",
       "books                                                  25156.21       287.0   \n",
       "construction & garden tools                           301690.24      2706.0   \n",
       "cool_stuff                                            382522.07      2271.0   \n",
       "fashion                                               113810.01      1550.0   \n",
       "food & drink                                           21722.15       341.0   \n",
       "health, beauty & hygiene                             1276311.86     10598.0   \n",
       "home, furniture & appliances                         1477225.82     14633.0   \n",
       "industry & commerce                                    57150.78       282.0   \n",
       "luggage_accessories                                    75088.70       590.0   \n",
       "pet_shop                                               84156.32       774.0   \n",
       "security                                                4532.10        46.0   \n",
       "toys, arts, craftmanship, stationery & accessories    405628.60      3639.0   \n",
       "unknown                                               100314.66       880.0   \n",
       "watches_gifts                                         475834.60      2232.0   \n",
       "\n",
       "                                                    total_orders  \\\n",
       "product_category                                                   \n",
       "PC, electronics & accessories                             6856.0   \n",
       "auto                                                      1431.0   \n",
       "books                                                      275.0   \n",
       "construction & garden tools                               2224.0   \n",
       "cool_stuff                                                2181.0   \n",
       "fashion                                                   1487.0   \n",
       "food & drink                                               291.0   \n",
       "health, beauty & hygiene                                  9799.0   \n",
       "home, furniture & appliances                             12579.0   \n",
       "industry & commerce                                        258.0   \n",
       "luggage_accessories                                        567.0   \n",
       "pet_shop                                                   718.0   \n",
       "security                                                    35.0   \n",
       "toys, arts, craftmanship, stationery & accessories        3500.0   \n",
       "unknown                                                    791.0   \n",
       "watches_gifts                                             2150.0   \n",
       "\n",
       "                                                    total_times_more_than_one  \\\n",
       "product_category                                                                \n",
       "PC, electronics & accessories                                           493.0   \n",
       "auto                                                                     80.0   \n",
       "books                                                                     7.0   \n",
       "construction & garden tools                                             343.0   \n",
       "cool_stuff                                                               70.0   \n",
       "fashion                                                                  53.0   \n",
       "food & drink                                                             32.0   \n",
       "health, beauty & hygiene                                                603.0   \n",
       "home, furniture & appliances                                           1441.0   \n",
       "industry & commerce                                                      15.0   \n",
       "luggage_accessories                                                      19.0   \n",
       "pet_shop                                                                 41.0   \n",
       "security                                                                  5.0   \n",
       "toys, arts, craftmanship, stationery & accessories                      110.0   \n",
       "unknown                                                                  71.0   \n",
       "watches_gifts                                                            56.0   \n",
       "\n",
       "                                                    mean_uniq_customers  \\\n",
       "product_category                                                          \n",
       "PC, electronics & accessories                                  1.629895   \n",
       "auto                                                           0.751579   \n",
       "books                                                          0.743243   \n",
       "construction & garden tools                                    1.528640   \n",
       "cool_stuff                                                     2.761724   \n",
       "fashion                                                        1.212121   \n",
       "food & drink                                                   1.039711   \n",
       "health, beauty & hygiene                                       1.371589   \n",
       "home, furniture & appliances                                   1.272903   \n",
       "industry & commerce                                            1.040650   \n",
       "luggage_accessories                                            1.618911   \n",
       "pet_shop                                                       0.994437   \n",
       "security                                                       0.368421   \n",
       "toys, arts, craftmanship, stationery & accessories             1.425194   \n",
       "unknown                                                        1.295082   \n",
       "watches_gifts                                                  1.611738   \n",
       "\n",
       "                                                    median_of_mean_review_score  \n",
       "product_category                                                                 \n",
       "PC, electronics & accessories                                          4.500000  \n",
       "auto                                                                   4.633333  \n",
       "books                                                                  5.000000  \n",
       "construction & garden tools                                            4.750000  \n",
       "cool_stuff                                                             4.555556  \n",
       "fashion                                                                4.569444  \n",
       "food & drink                                                           4.888889  \n",
       "health, beauty & hygiene                                               4.666667  \n",
       "home, furniture & appliances                                           4.333333  \n",
       "industry & commerce                                                    4.500000  \n",
       "luggage_accessories                                                    4.958333  \n",
       "pet_shop                                                               4.645105  \n",
       "security                                                               4.333333  \n",
       "toys, arts, craftmanship, stationery & accessories                     4.714286  \n",
       "unknown                                                                4.500000  \n",
       "watches_gifts                                                          4.666667  "
      ]
     },
     "execution_count": 129,
     "metadata": {},
     "output_type": "execute_result"
    }
   ],
   "source": [
    "product_agg"
   ]
  },
  {
   "cell_type": "code",
   "execution_count": 130,
   "metadata": {},
   "outputs": [],
   "source": [
    "product_agg['proportion_num_times_more_than_one'] = product_agg['total_times_more_than_one']/product_agg['total_orders']\n",
    "\n",
    "product_agg['sales_per_orders'] = product_agg['total_sales']/product_agg['total_orders']\n",
    "\n",
    "product_agg['sales_per_products'] = product_agg['total_sales']/product_agg['num_products']"
   ]
  },
  {
   "cell_type": "code",
   "execution_count": 131,
   "metadata": {},
   "outputs": [],
   "source": [
    "product_agg.reset_index(inplace=True)"
   ]
  },
  {
   "cell_type": "code",
   "execution_count": 115,
   "metadata": {},
   "outputs": [
    {
     "name": "stdout",
     "output_type": "stream",
     "text": [
      "Collecting colorcet\n",
      "  Downloading colorcet-3.0.1-py2.py3-none-any.whl (1.7 MB)\n",
      "Collecting pyct>=0.4.4\n",
      "  Downloading pyct-0.5.0-py2.py3-none-any.whl (15 kB)\n",
      "Collecting param>=1.7.0\n",
      "  Downloading param-1.13.0-py2.py3-none-any.whl (87 kB)\n",
      "Installing collected packages: param, pyct, colorcet\n",
      "Successfully installed colorcet-3.0.1 param-1.13.0 pyct-0.5.0\n",
      "Note: you may need to restart the kernel to use updated packages.\n"
     ]
    }
   ],
   "source": [
    "pip install colorcet"
   ]
  },
  {
   "cell_type": "code",
   "execution_count": 124,
   "metadata": {},
   "outputs": [],
   "source": [
    "category = product_agg['product_category']\n",
    "\n",
    "import colorcet as cc\n",
    "\n",
    "color = sns.color_palette(cc.glasbey, n_colors=len(category))\n",
    "\n",
    "dict_color = {col:color[n] for n, col in enumerate(category)}"
   ]
  },
  {
   "cell_type": "code",
   "execution_count": 125,
   "metadata": {},
   "outputs": [
    {
     "data": {
      "text/html": [
       "<svg  width=\"880\" height=\"55\"><rect x=\"0\" y=\"0\" width=\"55\" height=\"55\" style=\"fill:#d60000;stroke-width:2;stroke:rgb(255,255,255)\"/><rect x=\"55\" y=\"0\" width=\"55\" height=\"55\" style=\"fill:#8c3bff;stroke-width:2;stroke:rgb(255,255,255)\"/><rect x=\"110\" y=\"0\" width=\"55\" height=\"55\" style=\"fill:#018700;stroke-width:2;stroke:rgb(255,255,255)\"/><rect x=\"165\" y=\"0\" width=\"55\" height=\"55\" style=\"fill:#00acc6;stroke-width:2;stroke:rgb(255,255,255)\"/><rect x=\"220\" y=\"0\" width=\"55\" height=\"55\" style=\"fill:#97ff00;stroke-width:2;stroke:rgb(255,255,255)\"/><rect x=\"275\" y=\"0\" width=\"55\" height=\"55\" style=\"fill:#ff7ed1;stroke-width:2;stroke:rgb(255,255,255)\"/><rect x=\"330\" y=\"0\" width=\"55\" height=\"55\" style=\"fill:#6b004f;stroke-width:2;stroke:rgb(255,255,255)\"/><rect x=\"385\" y=\"0\" width=\"55\" height=\"55\" style=\"fill:#ffa52f;stroke-width:2;stroke:rgb(255,255,255)\"/><rect x=\"440\" y=\"0\" width=\"55\" height=\"55\" style=\"fill:#573b00;stroke-width:2;stroke:rgb(255,255,255)\"/><rect x=\"495\" y=\"0\" width=\"55\" height=\"55\" style=\"fill:#005659;stroke-width:2;stroke:rgb(255,255,255)\"/><rect x=\"550\" y=\"0\" width=\"55\" height=\"55\" style=\"fill:#0000dd;stroke-width:2;stroke:rgb(255,255,255)\"/><rect x=\"605\" y=\"0\" width=\"55\" height=\"55\" style=\"fill:#00fdcf;stroke-width:2;stroke:rgb(255,255,255)\"/><rect x=\"660\" y=\"0\" width=\"55\" height=\"55\" style=\"fill:#a17569;stroke-width:2;stroke:rgb(255,255,255)\"/><rect x=\"715\" y=\"0\" width=\"55\" height=\"55\" style=\"fill:#bcb6ff;stroke-width:2;stroke:rgb(255,255,255)\"/><rect x=\"770\" y=\"0\" width=\"55\" height=\"55\" style=\"fill:#95b577;stroke-width:2;stroke:rgb(255,255,255)\"/><rect x=\"825\" y=\"0\" width=\"55\" height=\"55\" style=\"fill:#bf03b8;stroke-width:2;stroke:rgb(255,255,255)\"/></svg>"
      ],
      "text/plain": [
       "[(0.8392156862745098, 0.0, 0.0),\n",
       " (0.5490196078431373, 0.23137254901960785, 1.0),\n",
       " (0.00392156862745098, 0.5294117647058824, 0.0),\n",
       " (0.0, 0.6745098039215687, 0.7764705882352941),\n",
       " (0.592156862745098, 1.0, 0.0),\n",
       " (1.0, 0.49411764705882355, 0.8196078431372549),\n",
       " (0.4196078431372549, 0.0, 0.30980392156862746),\n",
       " (1.0, 0.6470588235294118, 0.1843137254901961),\n",
       " (0.3411764705882353, 0.23137254901960785, 0.0),\n",
       " (0.0, 0.33725490196078434, 0.34901960784313724),\n",
       " (0.0, 0.0, 0.8666666666666667),\n",
       " (0.0, 0.9921568627450981, 0.8117647058823529),\n",
       " (0.6313725490196078, 0.4588235294117647, 0.4117647058823529),\n",
       " (0.7372549019607844, 0.7137254901960784, 1.0),\n",
       " (0.5843137254901961, 0.7098039215686275, 0.4666666666666667),\n",
       " (0.7490196078431373, 0.011764705882352941, 0.7215686274509804)]"
      ]
     },
     "execution_count": 125,
     "metadata": {},
     "output_type": "execute_result"
    }
   ],
   "source": [
    "color"
   ]
  },
  {
   "cell_type": "code",
   "execution_count": 132,
   "metadata": {},
   "outputs": [
    {
     "data": {
      "image/png": "[encoded data removed]",
      "text/plain": [
       "<Figure size 432x288 with 1 Axes>"
      ]
     },
     "metadata": {
      "needs_background": "light"
     },
     "output_type": "display_data"
    },
    {
     "data": {
      "image/png": "[encoded data removed]",
      "text/plain": [
       "<Figure size 432x288 with 1 Axes>"
      ]
     },
     "metadata": {
      "needs_background": "light"
     },
     "output_type": "display_data"
    },
    {
     "data": {
      "image/png": "[encoded data removed]",
      "text/plain": [
       "<Figure size 432x288 with 1 Axes>"
      ]
     },
     "metadata": {
      "needs_background": "light"
     },
     "output_type": "display_data"
    },
    {
     "data": {
      "image/png": "[encoded data removed]",
      "text/plain": [
       "<Figure size 432x288 with 1 Axes>"
      ]
     },
     "metadata": {
      "needs_background": "light"
     },
     "output_type": "display_data"
    },
    {
     "data": {
      "image/png": "[encoded data removed]",
      "text/plain": [
       "<Figure size 432x288 with 1 Axes>"
      ]
     },
     "metadata": {
      "needs_background": "light"
     },
     "output_type": "display_data"
    },
    {
     "data": {
      "image/png": "[encoded data removed]",
      "text/plain": [
       "<Figure size 432x288 with 1 Axes>"
      ]
     },
     "metadata": {
      "needs_background": "light"
     },
     "output_type": "display_data"
    },
    {
     "data": {
      "image/png": "[encoded data removed]",
      "text/plain": [
       "<Figure size 432x288 with 1 Axes>"
      ]
     },
     "metadata": {
      "needs_background": "light"
     },
     "output_type": "display_data"
    },
    {
     "data": {
      "image/png": "[encoded data removed]",
      "text/plain": [
       "<Figure size 432x288 with 1 Axes>"
      ]
     },
     "metadata": {
      "needs_background": "light"
     },
     "output_type": "display_data"
    },
    {
     "data": {
      "image/png": "[encoded data removed]",
      "text/plain": [
       "<Figure size 432x288 with 1 Axes>"
      ]
     },
     "metadata": {
      "needs_background": "light"
     },
     "output_type": "display_data"
    },
    {
     "data": {
      "image/png": "[encoded data removed]",
      "text/plain": [
       "<Figure size 432x288 with 1 Axes>"
      ]
     },
     "metadata": {
      "needs_background": "light"
     },
     "output_type": "display_data"
    },
    {
     "data": {
      "image/png": "[encoded data removed]",
      "text/plain": [
       "<Figure size 432x288 with 1 Axes>"
      ]
     },
     "metadata": {
      "needs_background": "light"
     },
     "output_type": "display_data"
    }
   ],
   "source": [
    "columns = product_agg.columns[1:]\n",
    "\n",
    "for col in columns:\n",
    "\n",
    "    y = 'product_category'\n",
    "    x = col\n",
    "\n",
    "    sns.barplot(data=product_agg, \n",
    "                x=x, \n",
    "                y=y,\n",
    "                palette = dict_color,\n",
    "                order=product_agg.sort_values(by=x, ascending=False)[y])\n",
    "    plt.show()"
   ]
  },
  {
   "cell_type": "code",
   "execution_count": 76,
   "metadata": {},
   "outputs": [
    {
     "data": {
      "text/plain": [
       "0.5664464678926382"
      ]
     },
     "execution_count": 76,
     "metadata": {},
     "output_type": "execute_result"
    }
   ],
   "source": [
    "(product_2017_copy['total_sold'] == 1).mean()"
   ]
  },
  {
   "cell_type": "code",
   "execution_count": 78,
   "metadata": {},
   "outputs": [
    {
     "data": {
      "text/plain": [
       "0.8640718919240612"
      ]
     },
     "execution_count": 78,
     "metadata": {},
     "output_type": "execute_result"
    }
   ],
   "source": [
    "(product_2017_copy['num_times_more_than_one'] == 0).mean()"
   ]
  },
  {
   "cell_type": "code",
   "execution_count": 79,
   "metadata": {},
   "outputs": [
    {
     "data": {
      "text/plain": [
       "0.6160209486401238"
      ]
     },
     "execution_count": 79,
     "metadata": {},
     "output_type": "execute_result"
    }
   ],
   "source": [
    "(product_2017_copy['num_uniq_customers'] == 1).mean()"
   ]
  },
  {
   "cell_type": "code",
   "execution_count": null,
   "metadata": {},
   "outputs": [],
   "source": []
  }
 ],
 "metadata": {
  "kernelspec": {
   "display_name": "Python 3",
   "language": "python",
   "name": "python3"
  },
  "language_info": {
   "codemirror_mode": {
    "name": "ipython",
    "version": 3
   },
   "file_extension": ".py",
   "mimetype": "text/x-python",
   "name": "python",
   "nbconvert_exporter": "python",
   "pygments_lexer": "ipython3",
   "version": "3.8.5"
  }
 },
 "nbformat": 4,
 "nbformat_minor": 5
}
